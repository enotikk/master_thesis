{
 "cells": [
  {
   "cell_type": "code",
   "execution_count": 216,
   "id": "8ccec87f",
   "metadata": {},
   "outputs": [],
   "source": [
    "import requests\n",
    "import json\n",
    "import codecs\n",
    "import pandas as pd\n",
    "from pandasql import sqldf\n",
    "import csv\n",
    "import numpy as np"
   ]
  },
  {
   "cell_type": "code",
   "execution_count": 32,
   "id": "65fe6950",
   "metadata": {},
   "outputs": [],
   "source": [
    "class Texter:\n",
    "    def __init__(self, text):\n",
    "        self.left = text[:text.find(\"<\")]\n",
    "        self.right = text[text.find(\">\")+1:]\n",
    "        self.match = text[text.find(\"<\")+1:text.find(\">\")]"
   ]
  },
  {
   "cell_type": "code",
   "execution_count": 33,
   "id": "438b4ee8",
   "metadata": {},
   "outputs": [],
   "source": [
    "def findincorpus(link, query):\n",
    "    queryfull = {\"query\":query,\"corpus\":\"main\",\"meta\":\"\",\"init\":False,\"contextSize\":1}\n",
    "    res = requests.post(link, data = json.dumps(queryfull))\n",
    "    res  = res.text\n",
    "    return res"
   ]
  },
  {
   "cell_type": "code",
   "execution_count": 34,
   "id": "eb82ffa1",
   "metadata": {},
   "outputs": [],
   "source": [
    "def parseCols(item):\n",
    "    ans = {}\n",
    "    while(True):\n",
    "        ans[item[1:item.find(\" \")]] = item[item.find(\" \") + 1:item.find(\">\")]\n",
    "        item = item[item.find(\">\") + 1:]\n",
    "        if(len(item) == 0):\n",
    "            return ans"
   ]
  },
  {
   "cell_type": "code",
   "execution_count": 35,
   "id": "0ddcb970",
   "metadata": {},
   "outputs": [],
   "source": [
    "def parseRes(lines):\n",
    "    res = []\n",
    "    for line in lines:\n",
    "        num = line[:line.find(\":\")].split()[0]\n",
    "        text = Texter(line[line.find(\">:\") + 4:])\n",
    "        colsAndValues = line[line.find(\"<\"):line.find(\">:\") + 1]\n",
    "        cmap = parseCols(colsAndValues)\n",
    "        cmap['num'] = num\n",
    "        cmap['Left context'] = text.left\n",
    "        cmap['Match'] = text.match\n",
    "        cmap['Right context'] = text.right\n",
    "        cmap['Context'] = text.left + text.match + text.right\n",
    "        res.append(cmap)\n",
    "    return res"
   ]
  },
  {
   "cell_type": "code",
   "execution_count": 36,
   "id": "4143d545",
   "metadata": {},
   "outputs": [],
   "source": [
    "def readContext(data):\n",
    "    res = []\n",
    "    for item in data:\n",
    "        symbol = item.find('/')\n",
    "        string = ''\n",
    "        while (symbol != -1):\n",
    "            spaceIndex = item[symbol:].find(' ')\n",
    "            if spaceIndex == -1:\n",
    "                break\n",
    "            string += item[:symbol]\n",
    "            item = item[symbol+spaceIndex:]\n",
    "            symbol = item.find('/')\n",
    "        res.append(string)\n",
    "    return res"
   ]
  },
  {
   "cell_type": "code",
   "execution_count": 180,
   "id": "76abe826",
   "metadata": {},
   "outputs": [],
   "source": [
    "def getAccentDict():\n",
    "    a = []\n",
    "    with open('accent.csv', newline='\\n', encoding = 'utf-8') as f:\n",
    "        reader = csv.reader(f)\n",
    "        for row in reader:\n",
    "            if row[0] not in (\"м\", \"ж\", \"мо\", \"м//мо\", \"мо//м\"):\n",
    "                help_str = \"\"\n",
    "                for s in row:\n",
    "                    help_str += str(s)\n",
    "                a.append(help_str)\n",
    "    d = dict()\n",
    "    for i in a:\n",
    "        if i[0] not in (\"1\", \"2\", \"3\", \"4\", \"5\", \"6\") and len(i)>1:\n",
    "            key = i\n",
    "        else:\n",
    "            value = ''\n",
    "            for s in i:\n",
    "                if s in ('c', 'd', 'e'):\n",
    "                    value +=s\n",
    "            if d.get(key) != None:\n",
    "                d.update({key: d.get(key) + value})\n",
    "            else:\n",
    "                d.update({key: value})\n",
    "            \n",
    "            \n",
    "    return d"
   ]
  },
  {
   "cell_type": "code",
   "execution_count": 37,
   "id": "c218744c",
   "metadata": {},
   "outputs": [],
   "source": [
    "def cleanTable(data):\n",
    "    lemas = []\n",
    "    anim = []\n",
    "    gender = []\n",
    "    finale = []\n",
    "    nsyll = []\n",
    "    prep = []\n",
    "    context = []\n",
    "    i = 0\n",
    "    for cont in data['Left context']:\n",
    "        c = str(cont).split()\n",
    "        p = ''\n",
    "        for w in c[:-5:-1]:\n",
    "            if 'PREP' in w:\n",
    "                p = w[0:w.find(\"/\")].lower()\n",
    "                break\n",
    "        if p in ['на', 'в', 'во', 'о', 'об', 'при']:\n",
    "            prep.append(p)\n",
    "        else:\n",
    "            data = data.drop([i])\n",
    "        i += 1\n",
    "    for word in data['Match']:\n",
    "        word = str(word)\n",
    "        tags = word[word.find(\"/\")+1:].split(',')\n",
    "        lemas.append(word[word.rfind(\"/\")+1:]) #лемма\n",
    "        anim.append(tags[1]) #одушевленность\n",
    "        gender.append(tags[2]) #род\n",
    "        if lemas[-1][-1] not in 'уеыаоэяиюёь':\n",
    "            finale.append(lemas[-1][-1])\n",
    "        elif lemas[-1][-1] in 'уыаоэ':\n",
    "            finale.append(lemas[-1][-2])\n",
    "        elif lemas[-1][-2] in 'уеыаоэяиюёь':\n",
    "            finale.append('й')\n",
    "        else:\n",
    "            finale.append(lemas[-1][-2]+\"'\") # исход основы\n",
    "\n",
    "        n = 0\n",
    "        for letter in word[word.rfind(\"/\")+1:-1]:\n",
    "            if letter in 'уеыаоэяиюё':\n",
    "                n += 1\n",
    "        nsyll.append(n)# количество слогов в основе\n",
    "        words = []\n",
    "    for item in data['Match']:\n",
    "        words.append(item[:item.find('/')])\n",
    "    context = readContext(data['Context'])\n",
    "    return pd.DataFrame({'word': words,\n",
    "                       'lema': lemas,\n",
    "                     'animacy': anim,\n",
    "                       'gender': gender,\n",
    "                       'finale': finale,\n",
    "                       'n_syll': nsyll,\n",
    "                       'preposition': prep,\n",
    "                        'context': context\n",
    "                      })"
   ]
  },
  {
   "cell_type": "code",
   "execution_count": 219,
   "id": "c119d053",
   "metadata": {},
   "outputs": [],
   "source": [
    "def isFinaleSoft(table):\n",
    "    a = np.array(table['finale'].values.tolist())\n",
    "    soft = []\n",
    "    for i in a:\n",
    "        if \"'\" in i:\n",
    "            soft.append(0)\n",
    "        else:\n",
    "            soft.append(1)\n",
    "    table['soft0'] = soft\n",
    "    return table"
   ]
  },
  {
   "cell_type": "code",
   "execution_count": 38,
   "id": "a76a7d2d",
   "metadata": {},
   "outputs": [],
   "source": [
    "link = 'http://lingconlab.ru/malinino/backend/get_results.php'\n",
    "query_y = \"[(word='.*(у|ю)'%c)& (tag = 'NOUN,(anim|inan),(masc|neut),sing,(loct|loc2|datv).*'%c)]\"\n",
    "query_e = \"[(word='.*е'%c)& (tag = 'NOUN,(anim|inan),(masc|neut),sing,loct.*'%c)]\""
   ]
  },
  {
   "cell_type": "code",
   "execution_count": 39,
   "id": "6d82c01d",
   "metadata": {},
   "outputs": [],
   "source": [
    "lines_y = findincorpus(link, query_y)\n",
    "lines_e = findincorpus(link, query_e)"
   ]
  },
  {
   "cell_type": "code",
   "execution_count": 40,
   "id": "522956b6",
   "metadata": {},
   "outputs": [],
   "source": [
    "data_y = cleanTable(pd.DataFrame(parseRes(lines_y.splitlines())))\n",
    "data_e = cleanTable(pd.DataFrame(parseRes(lines_e.splitlines())))"
   ]
  },
  {
   "cell_type": "code",
   "execution_count": 140,
   "id": "88713e36",
   "metadata": {},
   "outputs": [],
   "source": [
    "data_y.to_csv('malinino_data_y.csv')\n",
    "data_e.to_csv('malinino_data_e.csv')"
   ]
  },
  {
   "cell_type": "code",
   "execution_count": 181,
   "id": "ad2c385d",
   "metadata": {},
   "outputs": [],
   "source": [
    "data_e = pd.read_csv (\"malinino_data_e_clean.csv\", sep = ';')\n",
    "data_y = pd.read_csv (\"malinino_data_y_clean.csv\", sep = ';')"
   ]
  },
  {
   "cell_type": "code",
   "execution_count": 208,
   "id": "b523ca1b",
   "metadata": {},
   "outputs": [
    {
     "data": {
      "text/html": [
       "<div>\n",
       "<style scoped>\n",
       "    .dataframe tbody tr th:only-of-type {\n",
       "        vertical-align: middle;\n",
       "    }\n",
       "\n",
       "    .dataframe tbody tr th {\n",
       "        vertical-align: top;\n",
       "    }\n",
       "\n",
       "    .dataframe thead th {\n",
       "        text-align: right;\n",
       "    }\n",
       "</style>\n",
       "<table border=\"1\" class=\"dataframe\">\n",
       "  <thead>\n",
       "    <tr style=\"text-align: right;\">\n",
       "      <th></th>\n",
       "      <th>Column1</th>\n",
       "      <th>word</th>\n",
       "      <th>lema</th>\n",
       "      <th>animacy</th>\n",
       "      <th>gender</th>\n",
       "      <th>finale</th>\n",
       "      <th>n_syll</th>\n",
       "      <th>preposition</th>\n",
       "      <th>context</th>\n",
       "      <th>accent</th>\n",
       "    </tr>\n",
       "  </thead>\n",
       "  <tbody>\n",
       "    <tr>\n",
       "      <th>0</th>\n",
       "      <td>0</td>\n",
       "      <td>автобусе</td>\n",
       "      <td>автобус</td>\n",
       "      <td>inan</td>\n",
       "      <td>masc</td>\n",
       "      <td>с</td>\n",
       "      <td>3</td>\n",
       "      <td>на</td>\n",
       "      <td>Был , у сына был , но он гов . . . вот , душа не . . . он говорит : не нужна мне машина , я , говорит , лучше на автобусе</td>\n",
       "      <td>0</td>\n",
       "    </tr>\n",
       "    <tr>\n",
       "      <th>1</th>\n",
       "      <td>1</td>\n",
       "      <td>классе</td>\n",
       "      <td>класс</td>\n",
       "      <td>inan</td>\n",
       "      <td>masc</td>\n",
       "      <td>с</td>\n",
       "      <td>1</td>\n",
       "      <td>в</td>\n",
       "      <td>Да ну в пятый класс ходила , а уж он в пятом классе был , немецкий - то</td>\n",
       "      <td>0</td>\n",
       "    </tr>\n",
       "    <tr>\n",
       "      <th>2</th>\n",
       "      <td>2</td>\n",
       "      <td>зале</td>\n",
       "      <td>зал</td>\n",
       "      <td>inan</td>\n",
       "      <td>masc</td>\n",
       "      <td>л</td>\n",
       "      <td>1</td>\n",
       "      <td>в</td>\n",
       "      <td>Ну и он , ну , это , один в зале , а другой в этом</td>\n",
       "      <td>0</td>\n",
       "    </tr>\n",
       "    <tr>\n",
       "      <th>3</th>\n",
       "      <td>3</td>\n",
       "      <td>автобусе</td>\n",
       "      <td>автобус</td>\n",
       "      <td>inan</td>\n",
       "      <td>masc</td>\n",
       "      <td>с</td>\n",
       "      <td>3</td>\n",
       "      <td>на</td>\n",
       "      <td>А тебе до Хлевного , то на хлевенском , на хлевенском надо автобусе , а это вот он липецкий не заходит в Хлевное</td>\n",
       "      <td>0</td>\n",
       "    </tr>\n",
       "    <tr>\n",
       "      <th>4</th>\n",
       "      <td>4</td>\n",
       "      <td>автобусе</td>\n",
       "      <td>автобус</td>\n",
       "      <td>inan</td>\n",
       "      <td>masc</td>\n",
       "      <td>с</td>\n",
       "      <td>3</td>\n",
       "      <td>на</td>\n",
       "      <td>А вечером оттэда тогда , какие работают , они все тоже на этом автобусе приезжают домой</td>\n",
       "      <td>0</td>\n",
       "    </tr>\n",
       "    <tr>\n",
       "      <th>...</th>\n",
       "      <td>...</td>\n",
       "      <td>...</td>\n",
       "      <td>...</td>\n",
       "      <td>...</td>\n",
       "      <td>...</td>\n",
       "      <td>...</td>\n",
       "      <td>...</td>\n",
       "      <td>...</td>\n",
       "      <td>...</td>\n",
       "      <td>...</td>\n",
       "    </tr>\n",
       "    <tr>\n",
       "      <th>361</th>\n",
       "      <td>381</td>\n",
       "      <td>городе</td>\n",
       "      <td>город</td>\n",
       "      <td>inan</td>\n",
       "      <td>masc</td>\n",
       "      <td>д</td>\n",
       "      <td>2</td>\n",
       "      <td>в</td>\n",
       "      <td>Не делала ? Да кто - йто вы будете в городе делать</td>\n",
       "      <td>0</td>\n",
       "    </tr>\n",
       "    <tr>\n",
       "      <th>362</th>\n",
       "      <td>382</td>\n",
       "      <td>совхозе</td>\n",
       "      <td>совхоз</td>\n",
       "      <td>inan</td>\n",
       "      <td>masc</td>\n",
       "      <td>з</td>\n",
       "      <td>2</td>\n",
       "      <td>в</td>\n",
       "      <td>где - нибудь вон , чего - нибудь получали вон когда - йто мы в совхозе</td>\n",
       "      <td>0</td>\n",
       "    </tr>\n",
       "    <tr>\n",
       "      <th>363</th>\n",
       "      <td>383</td>\n",
       "      <td>навозе</td>\n",
       "      <td>навоз</td>\n",
       "      <td>inan</td>\n",
       "      <td>masc</td>\n",
       "      <td>з</td>\n",
       "      <td>2</td>\n",
       "      <td>в</td>\n",
       "      <td>В навозе водятся черви</td>\n",
       "      <td>0</td>\n",
       "    </tr>\n",
       "    <tr>\n",
       "      <th>364</th>\n",
       "      <td>384</td>\n",
       "      <td>навозе</td>\n",
       "      <td>навоз</td>\n",
       "      <td>inan</td>\n",
       "      <td>masc</td>\n",
       "      <td>з</td>\n",
       "      <td>2</td>\n",
       "      <td>в</td>\n",
       "      <td>В навозе водятся черви</td>\n",
       "      <td>0</td>\n",
       "    </tr>\n",
       "    <tr>\n",
       "      <th>365</th>\n",
       "      <td>385</td>\n",
       "      <td>базаре</td>\n",
       "      <td>базар</td>\n",
       "      <td>inan</td>\n",
       "      <td>masc</td>\n",
       "      <td>р</td>\n",
       "      <td>2</td>\n",
       "      <td>на</td>\n",
       "      <td>Он , говорят , продавается в этом , на базаре</td>\n",
       "      <td>0</td>\n",
       "    </tr>\n",
       "  </tbody>\n",
       "</table>\n",
       "<p>366 rows × 10 columns</p>\n",
       "</div>"
      ],
      "text/plain": [
       "     Column1      word     lema animacy gender finale  n_syll preposition  \\\n",
       "0          0  автобусе  автобус    inan   masc      с       3          на   \n",
       "1          1    классе    класс    inan   masc      с       1           в   \n",
       "2          2      зале      зал    inan   masc      л       1           в   \n",
       "3          3  автобусе  автобус    inan   masc      с       3          на   \n",
       "4          4  автобусе  автобус    inan   masc      с       3          на   \n",
       "..       ...       ...      ...     ...    ...    ...     ...         ...   \n",
       "361      381    городе    город    inan   masc      д       2           в   \n",
       "362      382   совхозе   совхоз    inan   masc      з       2           в   \n",
       "363      383    навозе    навоз    inan   masc      з       2           в   \n",
       "364      384    навозе    навоз    inan   masc      з       2           в   \n",
       "365      385    базаре    базар    inan   masc      р       2          на   \n",
       "\n",
       "                                                                                                                       context  \\\n",
       "0    Был , у сына был , но он гов . . . вот , душа не . . . он говорит : не нужна мне машина , я , говорит , лучше на автобусе   \n",
       "1                                                      Да ну в пятый класс ходила , а уж он в пятом классе был , немецкий - то   \n",
       "2                                                                           Ну и он , ну , это , один в зале , а другой в этом   \n",
       "3             А тебе до Хлевного , то на хлевенском , на хлевенском надо автобусе , а это вот он липецкий не заходит в Хлевное   \n",
       "4                                      А вечером оттэда тогда , какие работают , они все тоже на этом автобусе приезжают домой   \n",
       "..                                                                                                                         ...   \n",
       "361                                                                         Не делала ? Да кто - йто вы будете в городе делать   \n",
       "362                                                     где - нибудь вон , чего - нибудь получали вон когда - йто мы в совхозе   \n",
       "363                                                                                                     В навозе водятся черви   \n",
       "364                                                                                                     В навозе водятся черви   \n",
       "365                                                                              Он , говорят , продавается в этом , на базаре   \n",
       "\n",
       "     accent  \n",
       "0         0  \n",
       "1         0  \n",
       "2         0  \n",
       "3         0  \n",
       "4         0  \n",
       "..      ...  \n",
       "361       0  \n",
       "362       0  \n",
       "363       0  \n",
       "364       0  \n",
       "365       0  \n",
       "\n",
       "[366 rows x 10 columns]"
      ]
     },
     "execution_count": 208,
     "metadata": {},
     "output_type": "execute_result"
    }
   ],
   "source": [
    "data_e"
   ]
  },
  {
   "cell_type": "code",
   "execution_count": 182,
   "id": "3163398e",
   "metadata": {},
   "outputs": [],
   "source": [
    "d = getAccentDict()\n",
    "lemas = data_e['lema'].tolist()\n",
    "accent = []\n",
    "for lema in lemas:\n",
    "    if lema in d.keys():\n",
    "        accent.append(1)\n",
    "    else:\n",
    "        accent.append(0)\n",
    "data_e['accent'] = accent\n",
    "\n",
    "lemas = data_y['lema'].tolist()\n",
    "accent = []\n",
    "for lema in lemas:\n",
    "    if lema in d.keys():\n",
    "        accent.append(1)\n",
    "    else:\n",
    "        accent.append('0')\n",
    "data_y['accent'] = accent"
   ]
  },
  {
   "cell_type": "code",
   "execution_count": 183,
   "id": "5030020b",
   "metadata": {},
   "outputs": [],
   "source": [
    "qwe = data_e.value_counts('lema').to_frame().join(data_y.value_counts('lema').to_frame(), on='lema', how='outer', lsuffix='e_num', rsuffix='y_num')"
   ]
  },
  {
   "cell_type": "code",
   "execution_count": 184,
   "id": "c5561500",
   "metadata": {},
   "outputs": [],
   "source": [
    "qwe['0e_num'] = qwe['0e_num'].fillna(0)\n",
    "qwe['0y_num'] = qwe['0y_num'].fillna(0)"
   ]
  },
  {
   "cell_type": "code",
   "execution_count": 185,
   "id": "ad804d90",
   "metadata": {},
   "outputs": [],
   "source": [
    "qwe['perc'] = qwe['0y_num']/(qwe['0e_num']+qwe['0y_num'])"
   ]
  },
  {
   "cell_type": "code",
   "execution_count": 224,
   "id": "78d69ead",
   "metadata": {},
   "outputs": [
    {
     "name": "stderr",
     "output_type": "stream",
     "text": [
      "C:\\Users\\user\\anaconda3\\lib\\site-packages\\pandas\\core\\indexing.py:1720: SettingWithCopyWarning: \n",
      "A value is trying to be set on a copy of a slice from a DataFrame.\n",
      "Try using .loc[row_indexer,col_indexer] = value instead\n",
      "\n",
      "See the caveats in the documentation: https://pandas.pydata.org/pandas-docs/stable/user_guide/indexing.html#returning-a-view-versus-a-copy\n",
      "  self._setitem_single_column(loc, value, pi)\n",
      "<ipython-input-219-9e05995013da>:9: SettingWithCopyWarning: \n",
      "A value is trying to be set on a copy of a slice from a DataFrame.\n",
      "Try using .loc[row_indexer,col_indexer] = value instead\n",
      "\n",
      "See the caveats in the documentation: https://pandas.pydata.org/pandas-docs/stable/user_guide/indexing.html#returning-a-view-versus-a-copy\n",
      "  table['soft0'] = soft\n"
     ]
    }
   ],
   "source": [
    "feat_e = data_e[['lema', 'animacy', 'gender', 'finale', 'n_syll', 'accent']]\n",
    "feat_y = data_y[['lema', 'animacy', 'gender', 'finale', 'n_syll', 'accent']]\n",
    "feat_e.loc[feat_e['animacy']=='inan', 'animacy'] = 1\n",
    "feat_e.loc[feat_e['animacy']=='anim', 'animacy'] = 0\n",
    "feat_y.loc[feat_y['animacy']=='inan', 'animacy'] = 1\n",
    "feat_y.loc[feat_y['animacy']=='anim', 'animacy'] = 0\n",
    "\n",
    "feat_e.loc[feat_e['gender']=='masc', 'gender'] = 1\n",
    "feat_e.loc[feat_e['gender']=='neut', 'gender'] = 0\n",
    "feat_y.loc[feat_y['gender']=='masc', 'gender'] = 1\n",
    "feat_y.loc[feat_y['gender']=='neut', 'gender'] = 0\n",
    "\n",
    "feat_e = isFinaleSoft(feat_e)\n",
    "feat_y = isFinaleSoft(feat_y)"
   ]
  },
  {
   "cell_type": "code",
   "execution_count": 227,
   "id": "deb02a7f",
   "metadata": {},
   "outputs": [],
   "source": [
    "feat_y.to_csv('malinino_feat_y.csv')\n",
    "feat_e.to_csv('malinino_feat_e.csv')"
   ]
  },
  {
   "cell_type": "code",
   "execution_count": 226,
   "id": "292e7806",
   "metadata": {},
   "outputs": [
    {
     "data": {
      "text/html": [
       "<div>\n",
       "<style scoped>\n",
       "    .dataframe tbody tr th:only-of-type {\n",
       "        vertical-align: middle;\n",
       "    }\n",
       "\n",
       "    .dataframe tbody tr th {\n",
       "        vertical-align: top;\n",
       "    }\n",
       "\n",
       "    .dataframe thead th {\n",
       "        text-align: right;\n",
       "    }\n",
       "</style>\n",
       "<table border=\"1\" class=\"dataframe\">\n",
       "  <thead>\n",
       "    <tr style=\"text-align: right;\">\n",
       "      <th></th>\n",
       "      <th>lema</th>\n",
       "      <th>animacy</th>\n",
       "      <th>gender</th>\n",
       "      <th>finale</th>\n",
       "      <th>n_syll</th>\n",
       "      <th>accent</th>\n",
       "      <th>soft0</th>\n",
       "    </tr>\n",
       "  </thead>\n",
       "  <tbody>\n",
       "    <tr>\n",
       "      <th>0</th>\n",
       "      <td>год</td>\n",
       "      <td>1</td>\n",
       "      <td>1</td>\n",
       "      <td>д</td>\n",
       "      <td>1</td>\n",
       "      <td>1</td>\n",
       "      <td>1</td>\n",
       "    </tr>\n",
       "    <tr>\n",
       "      <th>1</th>\n",
       "      <td>год</td>\n",
       "      <td>1</td>\n",
       "      <td>1</td>\n",
       "      <td>д</td>\n",
       "      <td>1</td>\n",
       "      <td>1</td>\n",
       "      <td>1</td>\n",
       "    </tr>\n",
       "    <tr>\n",
       "      <th>2</th>\n",
       "      <td>берег</td>\n",
       "      <td>1</td>\n",
       "      <td>1</td>\n",
       "      <td>г</td>\n",
       "      <td>2</td>\n",
       "      <td>0</td>\n",
       "      <td>1</td>\n",
       "    </tr>\n",
       "    <tr>\n",
       "      <th>3</th>\n",
       "      <td>час</td>\n",
       "      <td>1</td>\n",
       "      <td>1</td>\n",
       "      <td>с</td>\n",
       "      <td>1</td>\n",
       "      <td>1</td>\n",
       "      <td>1</td>\n",
       "    </tr>\n",
       "    <tr>\n",
       "      <th>4</th>\n",
       "      <td>год</td>\n",
       "      <td>1</td>\n",
       "      <td>1</td>\n",
       "      <td>д</td>\n",
       "      <td>1</td>\n",
       "      <td>1</td>\n",
       "      <td>1</td>\n",
       "    </tr>\n",
       "    <tr>\n",
       "      <th>...</th>\n",
       "      <td>...</td>\n",
       "      <td>...</td>\n",
       "      <td>...</td>\n",
       "      <td>...</td>\n",
       "      <td>...</td>\n",
       "      <td>...</td>\n",
       "      <td>...</td>\n",
       "    </tr>\n",
       "    <tr>\n",
       "      <th>101</th>\n",
       "      <td>ветер</td>\n",
       "      <td>1</td>\n",
       "      <td>1</td>\n",
       "      <td>р</td>\n",
       "      <td>2</td>\n",
       "      <td>0</td>\n",
       "      <td>1</td>\n",
       "    </tr>\n",
       "    <tr>\n",
       "      <th>102</th>\n",
       "      <td>год</td>\n",
       "      <td>1</td>\n",
       "      <td>1</td>\n",
       "      <td>д</td>\n",
       "      <td>1</td>\n",
       "      <td>1</td>\n",
       "      <td>1</td>\n",
       "    </tr>\n",
       "    <tr>\n",
       "      <th>103</th>\n",
       "      <td>рот</td>\n",
       "      <td>1</td>\n",
       "      <td>1</td>\n",
       "      <td>т</td>\n",
       "      <td>1</td>\n",
       "      <td>0</td>\n",
       "      <td>1</td>\n",
       "    </tr>\n",
       "    <tr>\n",
       "      <th>104</th>\n",
       "      <td>бой</td>\n",
       "      <td>1</td>\n",
       "      <td>1</td>\n",
       "      <td>й</td>\n",
       "      <td>1</td>\n",
       "      <td>1</td>\n",
       "      <td>1</td>\n",
       "    </tr>\n",
       "    <tr>\n",
       "      <th>105</th>\n",
       "      <td>лес</td>\n",
       "      <td>1</td>\n",
       "      <td>1</td>\n",
       "      <td>с</td>\n",
       "      <td>1</td>\n",
       "      <td>1</td>\n",
       "      <td>1</td>\n",
       "    </tr>\n",
       "  </tbody>\n",
       "</table>\n",
       "<p>106 rows × 7 columns</p>\n",
       "</div>"
      ],
      "text/plain": [
       "      lema animacy gender finale  n_syll accent  soft0\n",
       "0      год       1      1      д       1      1      1\n",
       "1      год       1      1      д       1      1      1\n",
       "2    берег       1      1      г       2      0      1\n",
       "3      час       1      1      с       1      1      1\n",
       "4      год       1      1      д       1      1      1\n",
       "..     ...     ...    ...    ...     ...    ...    ...\n",
       "101  ветер       1      1      р       2      0      1\n",
       "102    год       1      1      д       1      1      1\n",
       "103    рот       1      1      т       1      0      1\n",
       "104    бой       1      1      й       1      1      1\n",
       "105    лес       1      1      с       1      1      1\n",
       "\n",
       "[106 rows x 7 columns]"
      ]
     },
     "execution_count": 226,
     "metadata": {},
     "output_type": "execute_result"
    }
   ],
   "source": [
    "feat_y"
   ]
  },
  {
   "cell_type": "code",
   "execution_count": 187,
   "id": "c5068453",
   "metadata": {},
   "outputs": [
    {
     "data": {
      "text/html": [
       "<div>\n",
       "<style scoped>\n",
       "    .dataframe tbody tr th:only-of-type {\n",
       "        vertical-align: middle;\n",
       "    }\n",
       "\n",
       "    .dataframe tbody tr th {\n",
       "        vertical-align: top;\n",
       "    }\n",
       "\n",
       "    .dataframe thead th {\n",
       "        text-align: right;\n",
       "    }\n",
       "</style>\n",
       "<table border=\"1\" class=\"dataframe\">\n",
       "  <thead>\n",
       "    <tr style=\"text-align: right;\">\n",
       "      <th></th>\n",
       "      <th>count(word)</th>\n",
       "    </tr>\n",
       "  </thead>\n",
       "  <tbody>\n",
       "    <tr>\n",
       "      <th>0</th>\n",
       "      <td>35</td>\n",
       "    </tr>\n",
       "  </tbody>\n",
       "</table>\n",
       "</div>"
      ],
      "text/plain": [
       "   count(word)\n",
       "0           35"
      ]
     },
     "execution_count": 187,
     "metadata": {},
     "output_type": "execute_result"
    }
   ],
   "source": [
    "sqldf(\"select count(word) from data_e where data_e.animacy == \\'inan\\' and data_e.gender == \\'masc\\' and data_e.n_syll == 1 and data_e.accent == 1\")"
   ]
  },
  {
   "cell_type": "code",
   "execution_count": 189,
   "id": "5fc14fab",
   "metadata": {},
   "outputs": [
    {
     "data": {
      "text/html": [
       "<div>\n",
       "<style scoped>\n",
       "    .dataframe tbody tr th:only-of-type {\n",
       "        vertical-align: middle;\n",
       "    }\n",
       "\n",
       "    .dataframe tbody tr th {\n",
       "        vertical-align: top;\n",
       "    }\n",
       "\n",
       "    .dataframe thead th {\n",
       "        text-align: right;\n",
       "    }\n",
       "</style>\n",
       "<table border=\"1\" class=\"dataframe\">\n",
       "  <thead>\n",
       "    <tr style=\"text-align: right;\">\n",
       "      <th></th>\n",
       "      <th>count(word)</th>\n",
       "    </tr>\n",
       "  </thead>\n",
       "  <tbody>\n",
       "    <tr>\n",
       "      <th>0</th>\n",
       "      <td>67</td>\n",
       "    </tr>\n",
       "  </tbody>\n",
       "</table>\n",
       "</div>"
      ],
      "text/plain": [
       "   count(word)\n",
       "0           67"
      ]
     },
     "execution_count": 189,
     "metadata": {},
     "output_type": "execute_result"
    }
   ],
   "source": [
    "sqldf(\"select count(word) from data_y where data_y.animacy == \\'inan\\' and data_y.gender == \\'masc\\' and data_y.n_syll == 1 and data_y.accent == 1\")"
   ]
  },
  {
   "cell_type": "code",
   "execution_count": 190,
   "id": "02f4b178",
   "metadata": {},
   "outputs": [
    {
     "data": {
      "text/plain": [
       "0.6568627450980392"
      ]
     },
     "execution_count": 190,
     "metadata": {},
     "output_type": "execute_result"
    }
   ],
   "source": [
    "67/(67+35)"
   ]
  },
  {
   "cell_type": "code",
   "execution_count": 198,
   "id": "92cfcf01",
   "metadata": {},
   "outputs": [],
   "source": [
    "pd.set_option('display.max_colwidth', None)"
   ]
  },
  {
   "cell_type": "code",
   "execution_count": 199,
   "id": "ca302020",
   "metadata": {},
   "outputs": [
    {
     "data": {
      "text/plain": [
       "на    57\n",
       "в     46\n",
       "во     3\n",
       "Name: preposition, dtype: int64"
      ]
     },
     "execution_count": 199,
     "metadata": {},
     "output_type": "execute_result"
    }
   ],
   "source": [
    "data_y['preposition'].value_counts()"
   ]
  },
  {
   "cell_type": "code",
   "execution_count": 230,
   "id": "a5adbea3",
   "metadata": {},
   "outputs": [
    {
     "data": {
      "text/plain": [
       "в     242\n",
       "на    120\n",
       "во      4\n",
       "Name: preposition, dtype: int64"
      ]
     },
     "execution_count": 230,
     "metadata": {},
     "output_type": "execute_result"
    }
   ],
   "source": [
    "data_e['preposition'].value_counts()"
   ]
  },
  {
   "cell_type": "code",
   "execution_count": 200,
   "id": "19a41de0",
   "metadata": {},
   "outputs": [
    {
     "name": "stdout",
     "output_type": "stream",
     "text": [
      "Empty DataFrame\n",
      "Columns: [lema, context]\n",
      "Index: []\n"
     ]
    }
   ],
   "source": [
    "print(data_y[data_y['gender']=='neut'][['lema', 'context']])"
   ]
  },
  {
   "cell_type": "code",
   "execution_count": 201,
   "id": "efc09bae",
   "metadata": {},
   "outputs": [
    {
     "name": "stdout",
     "output_type": "stream",
     "text": [
      "Empty DataFrame\n",
      "Columns: [lema, context]\n",
      "Index: []\n"
     ]
    }
   ],
   "source": [
    "print(data_y[data_y['animacy']=='anim'][['lema', 'context']])"
   ]
  },
  {
   "cell_type": "code",
   "execution_count": 202,
   "id": "0200898c",
   "metadata": {},
   "outputs": [
    {
     "name": "stdout",
     "output_type": "stream",
     "text": [
      "берег      14\n",
      "угол        3\n",
      "котёл       3\n",
      "хрестец     1\n",
      "ноготь      1\n",
      "отпуск      1\n",
      "ветер       1\n",
      "Name: lema, dtype: int64\n"
     ]
    }
   ],
   "source": [
    "print(data_y[data_y['n_syll']>1]['lema'].value_counts())"
   ]
  },
  {
   "cell_type": "code",
   "execution_count": 150,
   "id": "0efadacb",
   "metadata": {},
   "outputs": [],
   "source": [
    "feat = pd.concat([feat_e.drop_duplicates(),feat_y.drop_duplicates()], axis=0)"
   ]
  },
  {
   "cell_type": "code",
   "execution_count": 151,
   "id": "c43a2c65",
   "metadata": {},
   "outputs": [],
   "source": [
    "final_table = sqldf(\"select qwe.*, feat.animacy, feat.gender, feat.finale, feat.n_syll from qwe join feat on qwe.lema = feat.lema\")"
   ]
  },
  {
   "cell_type": "code",
   "execution_count": 152,
   "id": "e2deb957",
   "metadata": {},
   "outputs": [],
   "source": [
    "import numpy as np\n",
    "a = np.array(final_table['finale'].values.tolist())\n",
    "soft = []\n",
    "for i in a:\n",
    "    if \"'\" in i:\n",
    "        soft.append(0)\n",
    "    else:\n",
    "        soft.append(1)\n",
    "final_table['soft0'] = soft\n",
    "final_table = final_table.drop_duplicates()"
   ]
  },
  {
   "cell_type": "code",
   "execution_count": 154,
   "id": "95d30564",
   "metadata": {},
   "outputs": [],
   "source": [
    "final_table.loc[final_table['animacy']=='inan', 'animacy'] = 1"
   ]
  },
  {
   "cell_type": "code",
   "execution_count": 155,
   "id": "21118ce6",
   "metadata": {},
   "outputs": [],
   "source": [
    "final_table.loc[final_table['animacy']=='anim', 'animacy'] = 0"
   ]
  },
  {
   "cell_type": "code",
   "execution_count": 156,
   "id": "dae73985",
   "metadata": {},
   "outputs": [],
   "source": [
    "final_table.loc[final_table['gender']=='masc', 'gender'] = 1\n",
    "final_table.loc[final_table['gender']=='neut', 'gender'] = 0"
   ]
  },
  {
   "cell_type": "code",
   "execution_count": 207,
   "id": "81225679",
   "metadata": {},
   "outputs": [
    {
     "data": {
      "text/html": [
       "<div>\n",
       "<style scoped>\n",
       "    .dataframe tbody tr th:only-of-type {\n",
       "        vertical-align: middle;\n",
       "    }\n",
       "\n",
       "    .dataframe tbody tr th {\n",
       "        vertical-align: top;\n",
       "    }\n",
       "\n",
       "    .dataframe thead th {\n",
       "        text-align: right;\n",
       "    }\n",
       "</style>\n",
       "<table border=\"1\" class=\"dataframe\">\n",
       "  <thead>\n",
       "    <tr style=\"text-align: right;\">\n",
       "      <th></th>\n",
       "      <th>lema</th>\n",
       "      <th>0e_num</th>\n",
       "      <th>0y_num</th>\n",
       "      <th>perc</th>\n",
       "      <th>animacy</th>\n",
       "      <th>gender</th>\n",
       "      <th>finale</th>\n",
       "      <th>n_syll</th>\n",
       "      <th>soft0</th>\n",
       "    </tr>\n",
       "  </thead>\n",
       "  <tbody>\n",
       "    <tr>\n",
       "      <th>0</th>\n",
       "      <td>дом</td>\n",
       "      <td>22.0</td>\n",
       "      <td>2.0</td>\n",
       "      <td>0.083333</td>\n",
       "      <td>1</td>\n",
       "      <td>1</td>\n",
       "      <td>м</td>\n",
       "      <td>1</td>\n",
       "      <td>1</td>\n",
       "    </tr>\n",
       "    <tr>\n",
       "      <th>2</th>\n",
       "      <td>город</td>\n",
       "      <td>16.0</td>\n",
       "      <td>0.0</td>\n",
       "      <td>0.000000</td>\n",
       "      <td>1</td>\n",
       "      <td>1</td>\n",
       "      <td>д</td>\n",
       "      <td>2</td>\n",
       "      <td>1</td>\n",
       "    </tr>\n",
       "    <tr>\n",
       "      <th>3</th>\n",
       "      <td>огород</td>\n",
       "      <td>16.0</td>\n",
       "      <td>0.0</td>\n",
       "      <td>0.000000</td>\n",
       "      <td>1</td>\n",
       "      <td>1</td>\n",
       "      <td>д</td>\n",
       "      <td>3</td>\n",
       "      <td>1</td>\n",
       "    </tr>\n",
       "    <tr>\n",
       "      <th>4</th>\n",
       "      <td>совхоз</td>\n",
       "      <td>15.0</td>\n",
       "      <td>0.0</td>\n",
       "      <td>0.000000</td>\n",
       "      <td>1</td>\n",
       "      <td>1</td>\n",
       "      <td>з</td>\n",
       "      <td>2</td>\n",
       "      <td>1</td>\n",
       "    </tr>\n",
       "    <tr>\n",
       "      <th>5</th>\n",
       "      <td>село</td>\n",
       "      <td>13.0</td>\n",
       "      <td>0.0</td>\n",
       "      <td>0.000000</td>\n",
       "      <td>1</td>\n",
       "      <td>0</td>\n",
       "      <td>л</td>\n",
       "      <td>1</td>\n",
       "      <td>1</td>\n",
       "    </tr>\n",
       "    <tr>\n",
       "      <th>...</th>\n",
       "      <td>...</td>\n",
       "      <td>...</td>\n",
       "      <td>...</td>\n",
       "      <td>...</td>\n",
       "      <td>...</td>\n",
       "      <td>...</td>\n",
       "      <td>...</td>\n",
       "      <td>...</td>\n",
       "      <td>...</td>\n",
       "    </tr>\n",
       "    <tr>\n",
       "      <th>154</th>\n",
       "      <td>квас</td>\n",
       "      <td>0.0</td>\n",
       "      <td>1.0</td>\n",
       "      <td>1.000000</td>\n",
       "      <td>1</td>\n",
       "      <td>1</td>\n",
       "      <td>с</td>\n",
       "      <td>1</td>\n",
       "      <td>1</td>\n",
       "    </tr>\n",
       "    <tr>\n",
       "      <th>155</th>\n",
       "      <td>дым</td>\n",
       "      <td>0.0</td>\n",
       "      <td>1.0</td>\n",
       "      <td>1.000000</td>\n",
       "      <td>1</td>\n",
       "      <td>1</td>\n",
       "      <td>м</td>\n",
       "      <td>1</td>\n",
       "      <td>1</td>\n",
       "    </tr>\n",
       "    <tr>\n",
       "      <th>156</th>\n",
       "      <td>хрестец</td>\n",
       "      <td>0.0</td>\n",
       "      <td>1.0</td>\n",
       "      <td>1.000000</td>\n",
       "      <td>1</td>\n",
       "      <td>1</td>\n",
       "      <td>ц</td>\n",
       "      <td>2</td>\n",
       "      <td>1</td>\n",
       "    </tr>\n",
       "    <tr>\n",
       "      <th>157</th>\n",
       "      <td>цеп</td>\n",
       "      <td>0.0</td>\n",
       "      <td>1.0</td>\n",
       "      <td>1.000000</td>\n",
       "      <td>1</td>\n",
       "      <td>1</td>\n",
       "      <td>п</td>\n",
       "      <td>1</td>\n",
       "      <td>1</td>\n",
       "    </tr>\n",
       "    <tr>\n",
       "      <th>158</th>\n",
       "      <td>горб</td>\n",
       "      <td>0.0</td>\n",
       "      <td>1.0</td>\n",
       "      <td>1.000000</td>\n",
       "      <td>1</td>\n",
       "      <td>1</td>\n",
       "      <td>б</td>\n",
       "      <td>1</td>\n",
       "      <td>1</td>\n",
       "    </tr>\n",
       "  </tbody>\n",
       "</table>\n",
       "<p>157 rows × 9 columns</p>\n",
       "</div>"
      ],
      "text/plain": [
       "        lema  0e_num  0y_num      perc animacy gender finale  n_syll  soft0\n",
       "0        дом    22.0     2.0  0.083333       1      1      м       1      1\n",
       "2      город    16.0     0.0  0.000000       1      1      д       2      1\n",
       "3     огород    16.0     0.0  0.000000       1      1      д       3      1\n",
       "4     совхоз    15.0     0.0  0.000000       1      1      з       2      1\n",
       "5       село    13.0     0.0  0.000000       1      0      л       1      1\n",
       "..       ...     ...     ...       ...     ...    ...    ...     ...    ...\n",
       "154     квас     0.0     1.0  1.000000       1      1      с       1      1\n",
       "155      дым     0.0     1.0  1.000000       1      1      м       1      1\n",
       "156  хрестец     0.0     1.0  1.000000       1      1      ц       2      1\n",
       "157      цеп     0.0     1.0  1.000000       1      1      п       1      1\n",
       "158     горб     0.0     1.0  1.000000       1      1      б       1      1\n",
       "\n",
       "[157 rows x 9 columns]"
      ]
     },
     "execution_count": 207,
     "metadata": {},
     "output_type": "execute_result"
    }
   ],
   "source": [
    "final_table"
   ]
  },
  {
   "cell_type": "code",
   "execution_count": 158,
   "id": "24608943",
   "metadata": {},
   "outputs": [],
   "source": [
    "final_table.to_csv('malinino_final_table.csv')"
   ]
  },
  {
   "cell_type": "markdown",
   "id": "c6baf82a",
   "metadata": {},
   "source": [
    "http://lingconlab.ru/malinino/?#!/\n",
    "http://lingconlab.ru/vaduga/?#!/\n",
    "http://lingconlab.ru/opochka/?#!/\n",
    "http://lingconlab.ru/lukhteza/?#!/\n",
    "http://lingconlab.ru/nekhochi/?#!/\n",
    "ustja [(word = \".+(у|ю)\") & (tag = \"N.(m|n)s(d|l).\")]"
   ]
  },
  {
   "cell_type": "code",
   "execution_count": 192,
   "id": "b7dd8d39",
   "metadata": {},
   "outputs": [],
   "source": [
    "def print_summary(num):\n",
    "    sum_data = {'counter' : final_table[num],'animacy' : final_table[num] * final_table['animacy'], 'soft' : final_table['soft0'] * final_table[num], 'gender' : final_table[num] * final_table['gender'], 'n_syll' : final_table[num] * final_table['n_syll']}\n",
    "    sum = pd.DataFrame(sum_data)\n",
    "    sum = sum[sum_data['counter'] > 0]\n",
    "    animcay_perc = sum['animacy'].sum() / sum['counter'].sum()\n",
    "    gender_perc = sum['gender'].sum() / sum['counter'].sum()\n",
    "    n_syll_mean = sum['n_syll'].sum() / sum['counter'].sum()\n",
    "    soft = sum['soft'].sum() / sum['counter'].sum()\n",
    "    forms_perc = final_table[num].sum() / (final_table['0e_num'].sum() + final_table['0y_num'].sum())\n",
    "    forms = final_table[num].sum()\n",
    "    print(\"animacy (inan): \", animcay_perc)\n",
    "    print(\"gender (masc): \", gender_perc)\n",
    "    print(\"n_syll: \", n_syll_mean)\n",
    "    print(\"forms: {0}, forms_perc: {1}\".format(forms, forms_perc))\n",
    "    print(\"soft: \", soft)"
   ]
  },
  {
   "cell_type": "code",
   "execution_count": 193,
   "id": "15ec6540",
   "metadata": {},
   "outputs": [],
   "source": [
    "a = 'лоб, ров, лёд, рот, горб, пруд, полк, сук, скит, плот, пост, штифт, кол, торг, ад, чад, бред, под, рай, мел, мол, пыл, плен, жар, мир, яр, цвет, рант, быт, вольт, пах, пух, плац, хмель, ток, порт, мозг, долг, луг, круг, зад, сад, след, год, род, баз, глаз, паз, низ, воз, бой, строй, бок, ток, бал, вал, пол, тыл, кон, пар, бор, лес, нос, пот, борт, форт, мост, шкаф, верх, хлев, зоб, гроб, дуб, шаг, снег, лог, стог, мёд, ход, ряд, таз, пай, край, чай, слой, рой, шёлк, корм, дым, чан, суп, жир, пир, хор, смотр, сыр, час, грунт, спирт, мех, цех, газ, клей, гной, сок, стан, мыс, свет, тиф, шлях, мох крюк, перёд, холод, отпуск, терем, ветер, уголок, мысок, забытьё, берег, повод, бережок, бочок, угол, аэропорт, бег, век, вес, вид, ворот, день, дом, дух, корень, лад, лёт, плав, род, скак, счёт, ход, юр'\n",
    "dicts = a.split(sep = ', ')"
   ]
  },
  {
   "cell_type": "code",
   "execution_count": 194,
   "id": "f43dad9e",
   "metadata": {},
   "outputs": [],
   "source": [
    "words = final_table[final_table['0y_num'] > 0]['lema']\n",
    "diff = set(words).difference(set(dicts))"
   ]
  },
  {
   "cell_type": "code",
   "execution_count": 195,
   "id": "ac7aa9e0",
   "metadata": {},
   "outputs": [
    {
     "data": {
      "text/plain": [
       "{'гуж', 'квас', 'котёл', 'ноготь', 'пень', 'столб', 'хрестец', 'цеп', 'шест'}"
      ]
     },
     "execution_count": 195,
     "metadata": {},
     "output_type": "execute_result"
    }
   ],
   "source": [
    "diff"
   ]
  },
  {
   "cell_type": "code",
   "execution_count": 204,
   "id": "cf773ab9",
   "metadata": {},
   "outputs": [
    {
     "data": {
      "text/plain": [
       "{'дом', 'мир', 'отпуск', 'перёд', 'пруд'}"
      ]
     },
     "execution_count": 204,
     "metadata": {},
     "output_type": "execute_result"
    }
   ],
   "source": [
    "words_e = final_table[final_table['0e_num'] > 0]['lema']\n",
    "diffe = set(words_e).intersection(set(dicts))\n",
    "diffe"
   ]
  },
  {
   "cell_type": "code",
   "execution_count": 228,
   "id": "98e7e244",
   "metadata": {},
   "outputs": [
    {
     "data": {
      "text/plain": [
       "31"
      ]
     },
     "execution_count": 228,
     "metadata": {},
     "output_type": "execute_result"
    }
   ],
   "source": [
    "lemas_y = final_table[final_table['0y_num'] > 0]['lema']\n",
    "len(set(lemas_y))"
   ]
  },
  {
   "cell_type": "code",
   "execution_count": 229,
   "id": "d5ff8d3f",
   "metadata": {},
   "outputs": [
    {
     "name": "stdout",
     "output_type": "stream",
     "text": [
      "only -e:  126\n",
      "only -y:  29\n",
      "both -y and -e:  2\n"
     ]
    }
   ],
   "source": [
    "both = final_table[final_table['0y_num'] * final_table['0e_num'] > 0]['lema']\n",
    "only_y = (set(lemas_y)).difference(both)\n",
    "lemas_e = final_table[final_table['0e_num'] > 0]['lema']\n",
    "only_e = (set(lemas_e)).difference(both)\n",
    "print('only -e: ', len(only_e))\n",
    "print('only -y: ', len(only_y))\n",
    "print('both -y and -e: ', len(both))"
   ]
  },
  {
   "cell_type": "code",
   "execution_count": 196,
   "id": "2c3c8428",
   "metadata": {},
   "outputs": [
    {
     "name": "stdout",
     "output_type": "stream",
     "text": [
      "animacy (inan):  0.9918032786885246\n",
      "gender (masc):  0.8387978142076503\n",
      "n_syll:  1.8278688524590163\n",
      "forms: 366.0, forms_perc: 0.7754237288135594\n",
      "soft:  0.8961748633879781\n"
     ]
    }
   ],
   "source": [
    "print_summary('0e_num')"
   ]
  },
  {
   "cell_type": "code",
   "execution_count": 197,
   "id": "c15b2b11",
   "metadata": {},
   "outputs": [
    {
     "name": "stdout",
     "output_type": "stream",
     "text": [
      "animacy (inan):  1.0\n",
      "gender (masc):  1.0\n",
      "n_syll:  1.2264150943396226\n",
      "forms: 106.0, forms_perc: 0.2245762711864407\n",
      "soft:  0.9716981132075472\n"
     ]
    }
   ],
   "source": [
    "print_summary('0y_num')"
   ]
  },
  {
   "cell_type": "code",
   "execution_count": 206,
   "id": "1e5f9ca7",
   "metadata": {},
   "outputs": [],
   "source": [
    "map16 = {'counter': final_table['0y_num'] * final_table['animacy'] * final_table['gender'] * (final_table['n_syll'] > 1), 'lema': final_table['lema']}\n",
    "map16 = pd.DataFrame(map16)\n",
    "map16.loc[map16['counter'] == False, 'counter'] = 0\n",
    "map16.loc[map16['counter'] == True, 'counter'] = 1\n",
    "map16[map16['counter'] == 1]\n",
    "map16.to_csv('map16.csv')"
   ]
  },
  {
   "cell_type": "code",
   "execution_count": null,
   "id": "60215af9",
   "metadata": {},
   "outputs": [],
   "source": []
  }
 ],
 "metadata": {
  "kernelspec": {
   "display_name": "Python 3",
   "language": "python",
   "name": "python3"
  },
  "language_info": {
   "codemirror_mode": {
    "name": "ipython",
    "version": 3
   },
   "file_extension": ".py",
   "mimetype": "text/x-python",
   "name": "python",
   "nbconvert_exporter": "python",
   "pygments_lexer": "ipython3",
   "version": "3.8.8"
  }
 },
 "nbformat": 4,
 "nbformat_minor": 5
}
