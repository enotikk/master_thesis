{
 "cells": [
  {
   "cell_type": "code",
   "execution_count": 116,
   "id": "4396cb4d",
   "metadata": {},
   "outputs": [],
   "source": [
    "import requests\n",
    "import json\n",
    "import codecs\n",
    "import pandas as pd\n",
    "from pandasql import sqldf\n",
    "import csv\n",
    "import numpy as np"
   ]
  },
  {
   "cell_type": "code",
   "execution_count": 29,
   "id": "a7091f36",
   "metadata": {},
   "outputs": [],
   "source": [
    "class Texter:\n",
    "    def __init__(self, text):\n",
    "        self.left = text[:text.find(\"<\")]\n",
    "        self.right = text[text.find(\">\")+1:]\n",
    "        self.match = text[text.find(\"<\")+1:text.find(\">\")]"
   ]
  },
  {
   "cell_type": "code",
   "execution_count": 30,
   "id": "315e665d",
   "metadata": {},
   "outputs": [],
   "source": [
    "def findincorpus(link, query):\n",
    "    queryfull = {\"query\":query,\"corpus\":\"main\",\"meta\":\"\",\"init\":False,\"contextSize\":1}\n",
    "    res = requests.post(link, data = json.dumps(queryfull))\n",
    "    res  = res.text\n",
    "    return res"
   ]
  },
  {
   "cell_type": "code",
   "execution_count": 31,
   "id": "082d3146",
   "metadata": {},
   "outputs": [],
   "source": [
    "def parseCols(item):\n",
    "    ans = {}\n",
    "    while(True):\n",
    "        ans[item[1:item.find(\" \")]] = item[item.find(\" \") + 1:item.find(\">\")]\n",
    "        item = item[item.find(\">\") + 1:]\n",
    "        if(len(item) == 0):\n",
    "            return ans"
   ]
  },
  {
   "cell_type": "code",
   "execution_count": 32,
   "id": "5759b570",
   "metadata": {},
   "outputs": [],
   "source": [
    "def parseRes(lines):\n",
    "    res = []\n",
    "    for line in lines:\n",
    "        num = line[:line.find(\":\")].split()[0]\n",
    "        text = Texter(line[line.find(\">:\") + 4:])\n",
    "        colsAndValues = line[line.find(\"<\"):line.find(\">:\") + 1]\n",
    "        cmap = parseCols(colsAndValues)\n",
    "        cmap['num'] = num\n",
    "        cmap['Left context'] = text.left\n",
    "        cmap['Match'] = text.match\n",
    "        cmap['Right context'] = text.right\n",
    "        cmap['Context'] = text.left + text.match + text.right\n",
    "        res.append(cmap)\n",
    "    return res"
   ]
  },
  {
   "cell_type": "code",
   "execution_count": 33,
   "id": "e669e345",
   "metadata": {},
   "outputs": [],
   "source": [
    "def readContext(data):\n",
    "    res = []\n",
    "    for item in data:\n",
    "        symbol = item.find('/')\n",
    "        string = ''\n",
    "        while (symbol != -1):\n",
    "            spaceIndex = item[symbol:].find(' ')\n",
    "            if spaceIndex == -1:\n",
    "                break\n",
    "            string += item[:symbol]\n",
    "            item = item[symbol+spaceIndex:]\n",
    "            symbol = item.find('/')\n",
    "        res.append(string)\n",
    "    return res"
   ]
  },
  {
   "cell_type": "code",
   "execution_count": 93,
   "id": "5b30864a",
   "metadata": {},
   "outputs": [],
   "source": [
    "def getAccentDict():\n",
    "    a = []\n",
    "    with open('accent.csv', newline='\\n', encoding = 'utf-8') as f:\n",
    "        reader = csv.reader(f)\n",
    "        for row in reader:\n",
    "            if row[0] not in (\"м\", \"ж\", \"мо\", \"м//мо\", \"мо//м\"):\n",
    "                help_str = \"\"\n",
    "                for s in row:\n",
    "                    help_str += str(s)\n",
    "                a.append(help_str)\n",
    "    d = dict()\n",
    "    for i in a:\n",
    "        if i[0] not in (\"1\", \"2\", \"3\", \"4\", \"5\", \"6\") and len(i)>1:\n",
    "            key = i\n",
    "        else:\n",
    "            value = ''\n",
    "            for s in i:\n",
    "                if s in ('c', 'd', 'e'):\n",
    "                    value +=s\n",
    "            if d.get(key) != None:\n",
    "                d.update({key: d.get(key) + value})\n",
    "            else:\n",
    "                d.update({key: value})\n",
    "            \n",
    "            \n",
    "    return d"
   ]
  },
  {
   "cell_type": "code",
   "execution_count": 34,
   "id": "cd2d1f5f",
   "metadata": {},
   "outputs": [],
   "source": [
    "def cleanTable(data):\n",
    "    lemas = []\n",
    "    anim = []\n",
    "    gender = []\n",
    "    finale = []\n",
    "    nsyll = []\n",
    "    prep = []\n",
    "    context = []\n",
    "    i = 0\n",
    "    for cont in data['Left context']:\n",
    "        c = str(cont).split()\n",
    "        p = ''\n",
    "        for w in c[:-5:-1]:\n",
    "            if 'PREP' in w:\n",
    "                p = w[0:w.find(\"/\")].lower()\n",
    "                break\n",
    "        if p in ['на', 'в', 'во', 'о', 'об', 'при']:\n",
    "            prep.append(p)\n",
    "        else:\n",
    "            data = data.drop([i])\n",
    "        i += 1\n",
    "    for word in data['Match']:\n",
    "        word = str(word)\n",
    "        tags = word[word.find(\"/\")+1:].split(',')\n",
    "        lemas.append(word[word.rfind(\"/\")+1:]) #лемма\n",
    "        anim.append(tags[1]) #одушевленность\n",
    "        gender.append(tags[2]) #род\n",
    "        if lemas[-1][-1] not in 'уеыаоэяиюёь':\n",
    "            finale.append(lemas[-1][-1])\n",
    "        elif lemas[-1][-1] in 'уыаоэ':\n",
    "            finale.append(lemas[-1][-2])\n",
    "        elif lemas[-1][-2] in 'уеыаоэяиюёь':\n",
    "            finale.append('й')\n",
    "        else:\n",
    "            finale.append(lemas[-1][-2]+\"'\") # исход основы\n",
    "\n",
    "        n = 0\n",
    "        for letter in word[word.rfind(\"/\")+1:-1]:\n",
    "            if letter in 'уеыаоэяиюё':\n",
    "                n += 1\n",
    "        nsyll.append(n)# количество слогов в основе\n",
    "        words = []\n",
    "    for item in data['Match']:\n",
    "        words.append(item[:item.find('/')])\n",
    "    context = readContext(data['Context'])\n",
    "    return pd.DataFrame({'word': words,\n",
    "                       'lema': lemas,\n",
    "                     'animacy': anim,\n",
    "                       'gender': gender,\n",
    "                       'finale': finale,\n",
    "                       'n_syll': nsyll,\n",
    "                       'preposition': prep,\n",
    "                        'context': context\n",
    "                      })"
   ]
  },
  {
   "cell_type": "code",
   "execution_count": 113,
   "id": "f154f473",
   "metadata": {},
   "outputs": [],
   "source": [
    "def isFinaleSoft(table):\n",
    "    a = np.array(table['finale'].values.tolist())\n",
    "    soft = []\n",
    "    for i in a:\n",
    "        if \"'\" in i:\n",
    "            soft.append(0)\n",
    "        else:\n",
    "            soft.append(1)\n",
    "    table['soft0'] = soft\n",
    "    return table"
   ]
  },
  {
   "cell_type": "code",
   "execution_count": 35,
   "id": "963bc72e",
   "metadata": {},
   "outputs": [],
   "source": [
    "link = 'http://lingconlab.ru/opochka/backend/get_results.php'\n",
    "query_y = \"[(word='.*(у|ю)'%c)& (tag = 'NOUN,(anim|inan),(masc|neut),sing,(loct|loc2|datv).*'%c)]\"\n",
    "query_e = \"[(word='.*е'%c)& (tag = 'NOUN,(anim|inan),(masc|neut),sing,loct.*'%c)]\""
   ]
  },
  {
   "cell_type": "code",
   "execution_count": 36,
   "id": "c64ed584",
   "metadata": {},
   "outputs": [],
   "source": [
    "lines_y = findincorpus(link, query_y)\n",
    "lines_e = findincorpus(link, query_e)"
   ]
  },
  {
   "cell_type": "code",
   "execution_count": 37,
   "id": "74d6048e",
   "metadata": {},
   "outputs": [],
   "source": [
    "data_y = cleanTable(pd.DataFrame(parseRes(lines_y.splitlines())))\n",
    "data_e = cleanTable(pd.DataFrame(parseRes(lines_e.splitlines())))"
   ]
  },
  {
   "cell_type": "code",
   "execution_count": 42,
   "id": "7ad57052",
   "metadata": {},
   "outputs": [],
   "source": [
    "data_y.to_csv('opochka_data_y.csv')\n",
    "data_e.to_csv('opochka_data_e.csv')"
   ]
  },
  {
   "cell_type": "code",
   "execution_count": 94,
   "id": "787ef30f",
   "metadata": {},
   "outputs": [],
   "source": [
    "data_e = pd.read_csv (\"opochka_data_e_clean.csv\", sep = ';')\n",
    "data_y = pd.read_csv (\"opochka_data_y_clean.csv\", sep = ';')"
   ]
  },
  {
   "cell_type": "code",
   "execution_count": 95,
   "id": "f6338d40",
   "metadata": {},
   "outputs": [],
   "source": [
    "d = getAccentDict()\n",
    "lemas = data_e['lema'].tolist()\n",
    "accent = []\n",
    "for lema in lemas:\n",
    "    if lema in d.keys():\n",
    "        accent.append(1)\n",
    "    else:\n",
    "        accent.append(0)\n",
    "data_e['accent'] = accent\n",
    "\n",
    "lemas = data_y['lema'].tolist()\n",
    "accent = []\n",
    "for lema in lemas:\n",
    "    if lema in d.keys():\n",
    "        accent.append(1)\n",
    "    else:\n",
    "        accent.append('0')\n",
    "data_y['accent'] = accent"
   ]
  },
  {
   "cell_type": "code",
   "execution_count": 96,
   "id": "7b0abdb9",
   "metadata": {},
   "outputs": [],
   "source": [
    "qwe = data_e.value_counts('lema').to_frame().join(data_y.value_counts('lema').to_frame(), on='lema', how='outer', lsuffix='e_num', rsuffix='y_num')"
   ]
  },
  {
   "cell_type": "code",
   "execution_count": 97,
   "id": "109d3072",
   "metadata": {},
   "outputs": [],
   "source": [
    "qwe['0e_num'] = qwe['0e_num'].fillna(0)\n",
    "qwe['0y_num'] = qwe['0y_num'].fillna(0)"
   ]
  },
  {
   "cell_type": "code",
   "execution_count": 98,
   "id": "5434bb71",
   "metadata": {},
   "outputs": [],
   "source": [
    "qwe['perc'] = qwe['0y_num']/(qwe['0e_num']+qwe['0y_num'])"
   ]
  },
  {
   "cell_type": "code",
   "execution_count": 99,
   "id": "6374ba8f",
   "metadata": {},
   "outputs": [],
   "source": [
    "feat_e = data_e[['lema', 'animacy', 'gender', 'finale', 'n_syll', 'accent']]\n",
    "feat_y = data_y[['lema', 'animacy', 'gender', 'finale', 'n_syll', 'accent']]"
   ]
  },
  {
   "cell_type": "code",
   "execution_count": 114,
   "id": "02214731",
   "metadata": {},
   "outputs": [
    {
     "name": "stderr",
     "output_type": "stream",
     "text": [
      "C:\\Users\\user\\anaconda3\\lib\\site-packages\\pandas\\core\\indexing.py:1720: SettingWithCopyWarning: \n",
      "A value is trying to be set on a copy of a slice from a DataFrame.\n",
      "Try using .loc[row_indexer,col_indexer] = value instead\n",
      "\n",
      "See the caveats in the documentation: https://pandas.pydata.org/pandas-docs/stable/user_guide/indexing.html#returning-a-view-versus-a-copy\n",
      "  self._setitem_single_column(loc, value, pi)\n",
      "<ipython-input-113-9e05995013da>:9: SettingWithCopyWarning: \n",
      "A value is trying to be set on a copy of a slice from a DataFrame.\n",
      "Try using .loc[row_indexer,col_indexer] = value instead\n",
      "\n",
      "See the caveats in the documentation: https://pandas.pydata.org/pandas-docs/stable/user_guide/indexing.html#returning-a-view-versus-a-copy\n",
      "  table['soft0'] = soft\n"
     ]
    }
   ],
   "source": [
    "feat_e.loc[feat_e['animacy']=='inan', 'animacy'] = 1\n",
    "feat_e.loc[feat_e['animacy']=='anim', 'animacy'] = 0\n",
    "feat_y.loc[feat_y['animacy']=='inan', 'animacy'] = 1\n",
    "feat_y.loc[feat_y['animacy']=='anim', 'animacy'] = 0\n",
    "\n",
    "feat_e.loc[feat_e['gender']=='masc', 'gender'] = 1\n",
    "feat_e.loc[feat_e['gender']=='neut', 'gender'] = 0\n",
    "feat_y.loc[feat_y['gender']=='masc', 'gender'] = 1\n",
    "feat_y.loc[feat_y['gender']=='neut', 'gender'] = 0\n",
    "\n",
    "feat_e = isFinaleSoft(feat_e)\n",
    "feat_y = isFinaleSoft(feat_y)"
   ]
  },
  {
   "cell_type": "code",
   "execution_count": 115,
   "id": "0885e761",
   "metadata": {},
   "outputs": [],
   "source": [
    "feat_y.to_csv('opochka_feat_y.csv')\n",
    "feat_e.to_csv('opochka_feat_e.csv')"
   ]
  },
  {
   "cell_type": "code",
   "execution_count": 100,
   "id": "b5f2a0a7",
   "metadata": {},
   "outputs": [
    {
     "data": {
      "text/html": [
       "<div>\n",
       "<style scoped>\n",
       "    .dataframe tbody tr th:only-of-type {\n",
       "        vertical-align: middle;\n",
       "    }\n",
       "\n",
       "    .dataframe tbody tr th {\n",
       "        vertical-align: top;\n",
       "    }\n",
       "\n",
       "    .dataframe thead th {\n",
       "        text-align: right;\n",
       "    }\n",
       "</style>\n",
       "<table border=\"1\" class=\"dataframe\">\n",
       "  <thead>\n",
       "    <tr style=\"text-align: right;\">\n",
       "      <th></th>\n",
       "      <th>count(word)</th>\n",
       "    </tr>\n",
       "  </thead>\n",
       "  <tbody>\n",
       "    <tr>\n",
       "      <th>0</th>\n",
       "      <td>24</td>\n",
       "    </tr>\n",
       "  </tbody>\n",
       "</table>\n",
       "</div>"
      ],
      "text/plain": [
       "   count(word)\n",
       "0           24"
      ]
     },
     "execution_count": 100,
     "metadata": {},
     "output_type": "execute_result"
    }
   ],
   "source": [
    "sqldf(\"select count(word) from data_e where data_e.animacy == \\'inan\\' and data_e.gender == \\'masc\\' and data_e.n_syll == 1 and data_e.accent == 1\")"
   ]
  },
  {
   "cell_type": "code",
   "execution_count": 101,
   "id": "68b1f333",
   "metadata": {},
   "outputs": [
    {
     "data": {
      "text/html": [
       "<div>\n",
       "<style scoped>\n",
       "    .dataframe tbody tr th:only-of-type {\n",
       "        vertical-align: middle;\n",
       "    }\n",
       "\n",
       "    .dataframe tbody tr th {\n",
       "        vertical-align: top;\n",
       "    }\n",
       "\n",
       "    .dataframe thead th {\n",
       "        text-align: right;\n",
       "    }\n",
       "</style>\n",
       "<table border=\"1\" class=\"dataframe\">\n",
       "  <thead>\n",
       "    <tr style=\"text-align: right;\">\n",
       "      <th></th>\n",
       "      <th>count(word)</th>\n",
       "    </tr>\n",
       "  </thead>\n",
       "  <tbody>\n",
       "    <tr>\n",
       "      <th>0</th>\n",
       "      <td>59</td>\n",
       "    </tr>\n",
       "  </tbody>\n",
       "</table>\n",
       "</div>"
      ],
      "text/plain": [
       "   count(word)\n",
       "0           59"
      ]
     },
     "execution_count": 101,
     "metadata": {},
     "output_type": "execute_result"
    }
   ],
   "source": [
    "sqldf(\"select count(word) from data_y where data_y.animacy == \\'inan\\' and data_y.gender == \\'masc\\' and data_y.n_syll == 1 and data_y.accent == 1\")"
   ]
  },
  {
   "cell_type": "code",
   "execution_count": 102,
   "id": "9d8fe9a5",
   "metadata": {},
   "outputs": [
    {
     "data": {
      "text/plain": [
       "0.7108433734939759"
      ]
     },
     "execution_count": 102,
     "metadata": {},
     "output_type": "execute_result"
    }
   ],
   "source": [
    "59/(59+24)"
   ]
  },
  {
   "cell_type": "code",
   "execution_count": 107,
   "id": "8a90433a",
   "metadata": {},
   "outputs": [
    {
     "data": {
      "text/plain": [
       "в     50\n",
       "на    15\n",
       "Name: preposition, dtype: int64"
      ]
     },
     "execution_count": 107,
     "metadata": {},
     "output_type": "execute_result"
    }
   ],
   "source": [
    "data_y['preposition'].value_counts()"
   ]
  },
  {
   "cell_type": "code",
   "execution_count": 119,
   "id": "838705b8",
   "metadata": {},
   "outputs": [
    {
     "data": {
      "text/plain": [
       "в     152\n",
       "на     53\n",
       "во      5\n",
       "Name: preposition, dtype: int64"
      ]
     },
     "execution_count": 119,
     "metadata": {},
     "output_type": "execute_result"
    }
   ],
   "source": [
    "data_e['preposition'].value_counts()"
   ]
  },
  {
   "cell_type": "code",
   "execution_count": 108,
   "id": "f78eb1ca",
   "metadata": {},
   "outputs": [
    {
     "name": "stdout",
     "output_type": "stream",
     "text": [
      "угол     3\n",
      "берег    2\n",
      "Name: lema, dtype: int64\n"
     ]
    }
   ],
   "source": [
    "print(data_y[data_y['n_syll']>1]['lema'].value_counts())"
   ]
  },
  {
   "cell_type": "code",
   "execution_count": 79,
   "id": "44c32445",
   "metadata": {},
   "outputs": [],
   "source": [
    "feat = pd.concat([feat_e.drop_duplicates(),feat_y.drop_duplicates()], axis=0)"
   ]
  },
  {
   "cell_type": "code",
   "execution_count": 80,
   "id": "db14c4d8",
   "metadata": {},
   "outputs": [],
   "source": [
    "final_table = sqldf(\"select qwe.*, feat.animacy, feat.gender, feat.finale, feat.n_syll from qwe join feat on qwe.lema = feat.lema\")"
   ]
  },
  {
   "cell_type": "code",
   "execution_count": 81,
   "id": "b6772f79",
   "metadata": {},
   "outputs": [],
   "source": [
    "import numpy as np\n",
    "a = np.array(final_table['finale'].values.tolist())\n",
    "soft = []\n",
    "for i in a:\n",
    "    if \"'\" in i:\n",
    "        soft.append(0)\n",
    "    else:\n",
    "        soft.append(1)\n",
    "final_table['soft0'] = soft\n",
    "final_table = final_table.drop_duplicates()"
   ]
  },
  {
   "cell_type": "code",
   "execution_count": 82,
   "id": "4f44c196",
   "metadata": {},
   "outputs": [
    {
     "data": {
      "text/html": [
       "<div>\n",
       "<style scoped>\n",
       "    .dataframe tbody tr th:only-of-type {\n",
       "        vertical-align: middle;\n",
       "    }\n",
       "\n",
       "    .dataframe tbody tr th {\n",
       "        vertical-align: top;\n",
       "    }\n",
       "\n",
       "    .dataframe thead th {\n",
       "        text-align: right;\n",
       "    }\n",
       "</style>\n",
       "<table border=\"1\" class=\"dataframe\">\n",
       "  <thead>\n",
       "    <tr style=\"text-align: right;\">\n",
       "      <th></th>\n",
       "      <th>lema</th>\n",
       "      <th>0e_num</th>\n",
       "      <th>0y_num</th>\n",
       "      <th>perc</th>\n",
       "      <th>animacy</th>\n",
       "      <th>gender</th>\n",
       "      <th>finale</th>\n",
       "      <th>n_syll</th>\n",
       "      <th>soft0</th>\n",
       "    </tr>\n",
       "  </thead>\n",
       "  <tbody>\n",
       "    <tr>\n",
       "      <th>0</th>\n",
       "      <td>город</td>\n",
       "      <td>24.0</td>\n",
       "      <td>0.0</td>\n",
       "      <td>0.000000</td>\n",
       "      <td>inan</td>\n",
       "      <td>masc</td>\n",
       "      <td>д</td>\n",
       "      <td>2</td>\n",
       "      <td>1</td>\n",
       "    </tr>\n",
       "    <tr>\n",
       "      <th>1</th>\n",
       "      <td>дом</td>\n",
       "      <td>21.0</td>\n",
       "      <td>2.0</td>\n",
       "      <td>0.086957</td>\n",
       "      <td>inan</td>\n",
       "      <td>masc</td>\n",
       "      <td>м</td>\n",
       "      <td>1</td>\n",
       "      <td>1</td>\n",
       "    </tr>\n",
       "    <tr>\n",
       "      <th>3</th>\n",
       "      <td>колхоз</td>\n",
       "      <td>18.0</td>\n",
       "      <td>0.0</td>\n",
       "      <td>0.000000</td>\n",
       "      <td>inan</td>\n",
       "      <td>masc</td>\n",
       "      <td>з</td>\n",
       "      <td>2</td>\n",
       "      <td>1</td>\n",
       "    </tr>\n",
       "    <tr>\n",
       "      <th>4</th>\n",
       "      <td>начало</td>\n",
       "      <td>11.0</td>\n",
       "      <td>0.0</td>\n",
       "      <td>0.000000</td>\n",
       "      <td>inan</td>\n",
       "      <td>neut</td>\n",
       "      <td>л</td>\n",
       "      <td>2</td>\n",
       "      <td>1</td>\n",
       "    </tr>\n",
       "    <tr>\n",
       "      <th>5</th>\n",
       "      <td>поле</td>\n",
       "      <td>7.0</td>\n",
       "      <td>0.0</td>\n",
       "      <td>0.000000</td>\n",
       "      <td>inan</td>\n",
       "      <td>neut</td>\n",
       "      <td>л'</td>\n",
       "      <td>1</td>\n",
       "      <td>0</td>\n",
       "    </tr>\n",
       "    <tr>\n",
       "      <th>...</th>\n",
       "      <td>...</td>\n",
       "      <td>...</td>\n",
       "      <td>...</td>\n",
       "      <td>...</td>\n",
       "      <td>...</td>\n",
       "      <td>...</td>\n",
       "      <td>...</td>\n",
       "      <td>...</td>\n",
       "      <td>...</td>\n",
       "    </tr>\n",
       "    <tr>\n",
       "      <th>97</th>\n",
       "      <td>мост</td>\n",
       "      <td>0.0</td>\n",
       "      <td>1.0</td>\n",
       "      <td>1.000000</td>\n",
       "      <td>inan</td>\n",
       "      <td>masc</td>\n",
       "      <td>т</td>\n",
       "      <td>1</td>\n",
       "      <td>1</td>\n",
       "    </tr>\n",
       "    <tr>\n",
       "      <th>98</th>\n",
       "      <td>порт</td>\n",
       "      <td>0.0</td>\n",
       "      <td>1.0</td>\n",
       "      <td>1.000000</td>\n",
       "      <td>inan</td>\n",
       "      <td>masc</td>\n",
       "      <td>т</td>\n",
       "      <td>1</td>\n",
       "      <td>1</td>\n",
       "    </tr>\n",
       "    <tr>\n",
       "      <th>99</th>\n",
       "      <td>сад</td>\n",
       "      <td>0.0</td>\n",
       "      <td>1.0</td>\n",
       "      <td>1.000000</td>\n",
       "      <td>inan</td>\n",
       "      <td>masc</td>\n",
       "      <td>д</td>\n",
       "      <td>1</td>\n",
       "      <td>1</td>\n",
       "    </tr>\n",
       "    <tr>\n",
       "      <th>100</th>\n",
       "      <td>счёт</td>\n",
       "      <td>0.0</td>\n",
       "      <td>1.0</td>\n",
       "      <td>1.000000</td>\n",
       "      <td>inan</td>\n",
       "      <td>masc</td>\n",
       "      <td>т</td>\n",
       "      <td>1</td>\n",
       "      <td>1</td>\n",
       "    </tr>\n",
       "    <tr>\n",
       "      <th>101</th>\n",
       "      <td>шаг</td>\n",
       "      <td>0.0</td>\n",
       "      <td>1.0</td>\n",
       "      <td>1.000000</td>\n",
       "      <td>inan</td>\n",
       "      <td>masc</td>\n",
       "      <td>г</td>\n",
       "      <td>1</td>\n",
       "      <td>1</td>\n",
       "    </tr>\n",
       "  </tbody>\n",
       "</table>\n",
       "<p>100 rows × 9 columns</p>\n",
       "</div>"
      ],
      "text/plain": [
       "       lema  0e_num  0y_num      perc animacy gender finale  n_syll  soft0\n",
       "0     город    24.0     0.0  0.000000    inan   masc      д       2      1\n",
       "1       дом    21.0     2.0  0.086957    inan   masc      м       1      1\n",
       "3    колхоз    18.0     0.0  0.000000    inan   masc      з       2      1\n",
       "4    начало    11.0     0.0  0.000000    inan   neut      л       2      1\n",
       "5      поле     7.0     0.0  0.000000    inan   neut     л'       1      0\n",
       "..      ...     ...     ...       ...     ...    ...    ...     ...    ...\n",
       "97     мост     0.0     1.0  1.000000    inan   masc      т       1      1\n",
       "98     порт     0.0     1.0  1.000000    inan   masc      т       1      1\n",
       "99      сад     0.0     1.0  1.000000    inan   masc      д       1      1\n",
       "100    счёт     0.0     1.0  1.000000    inan   masc      т       1      1\n",
       "101     шаг     0.0     1.0  1.000000    inan   masc      г       1      1\n",
       "\n",
       "[100 rows x 9 columns]"
      ]
     },
     "execution_count": 82,
     "metadata": {},
     "output_type": "execute_result"
    }
   ],
   "source": [
    "final_table"
   ]
  },
  {
   "cell_type": "code",
   "execution_count": 83,
   "id": "db04f2f2",
   "metadata": {},
   "outputs": [],
   "source": [
    "final_table.loc[final_table['animacy']=='inan', 'animacy'] = 1"
   ]
  },
  {
   "cell_type": "code",
   "execution_count": 84,
   "id": "6093c10f",
   "metadata": {},
   "outputs": [],
   "source": [
    "final_table.loc[final_table['animacy']=='anim', 'animacy'] = 0"
   ]
  },
  {
   "cell_type": "code",
   "execution_count": 85,
   "id": "b3a6ece1",
   "metadata": {},
   "outputs": [],
   "source": [
    "final_table.loc[final_table['gender']=='masc', 'gender'] = 1\n",
    "final_table.loc[final_table['gender']=='neut', 'gender'] = 0"
   ]
  },
  {
   "cell_type": "code",
   "execution_count": 109,
   "id": "beea3ca8",
   "metadata": {},
   "outputs": [
    {
     "data": {
      "text/html": [
       "<div>\n",
       "<style scoped>\n",
       "    .dataframe tbody tr th:only-of-type {\n",
       "        vertical-align: middle;\n",
       "    }\n",
       "\n",
       "    .dataframe tbody tr th {\n",
       "        vertical-align: top;\n",
       "    }\n",
       "\n",
       "    .dataframe thead th {\n",
       "        text-align: right;\n",
       "    }\n",
       "</style>\n",
       "<table border=\"1\" class=\"dataframe\">\n",
       "  <thead>\n",
       "    <tr style=\"text-align: right;\">\n",
       "      <th></th>\n",
       "      <th>lema</th>\n",
       "      <th>0e_num</th>\n",
       "      <th>0y_num</th>\n",
       "      <th>perc</th>\n",
       "      <th>animacy</th>\n",
       "      <th>gender</th>\n",
       "      <th>finale</th>\n",
       "      <th>n_syll</th>\n",
       "      <th>soft0</th>\n",
       "    </tr>\n",
       "  </thead>\n",
       "  <tbody>\n",
       "    <tr>\n",
       "      <th>89</th>\n",
       "      <td>лес</td>\n",
       "      <td>0.0</td>\n",
       "      <td>6.0</td>\n",
       "      <td>1.0</td>\n",
       "      <td>1</td>\n",
       "      <td>1</td>\n",
       "      <td>с</td>\n",
       "      <td>1</td>\n",
       "      <td>1</td>\n",
       "    </tr>\n",
       "  </tbody>\n",
       "</table>\n",
       "</div>"
      ],
      "text/plain": [
       "   lema  0e_num  0y_num  perc animacy gender finale  n_syll  soft0\n",
       "89  лес     0.0     6.0   1.0       1      1      с       1      1"
      ]
     },
     "execution_count": 109,
     "metadata": {},
     "output_type": "execute_result"
    }
   ],
   "source": [
    "final_table[final_table['lema'] == 'лес']"
   ]
  },
  {
   "cell_type": "code",
   "execution_count": 87,
   "id": "adfaddd2",
   "metadata": {},
   "outputs": [],
   "source": [
    "final_table.to_csv('opochka_final_table.csv')"
   ]
  },
  {
   "cell_type": "markdown",
   "id": "56b29fca",
   "metadata": {},
   "source": [
    "http://lingconlab.ru/opochka/?#!/\n",
    "http://lingconlab.ru/lukhteza/?#!/\n",
    "http://lingconlab.ru/nekhochi/?#!/\n",
    "ustja [(word = \".+(у|ю)\") & (tag = \"N.(m|n)s(d|l).\")]"
   ]
  },
  {
   "cell_type": "code",
   "execution_count": 104,
   "id": "bd6e8ff9",
   "metadata": {},
   "outputs": [],
   "source": [
    "def print_summary(num):\n",
    "    sum_data = {'counter' : final_table[num],'animacy' : final_table[num] * final_table['animacy'], 'soft' : final_table['soft0'] * final_table[num], 'gender' : final_table[num] * final_table['gender'], 'n_syll' : final_table[num] * final_table['n_syll']}\n",
    "    sum = pd.DataFrame(sum_data)\n",
    "    sum = sum[sum_data['counter'] > 0]\n",
    "    animcay_perc = sum['animacy'].sum() / sum['counter'].sum()\n",
    "    gender_perc = sum['gender'].sum() / sum['counter'].sum()\n",
    "    n_syll_mean = sum['n_syll'].sum() / sum['counter'].sum()\n",
    "    soft = sum['soft'].sum() / sum['counter'].sum()\n",
    "    forms_perc = final_table[num].sum() / (final_table['0e_num'].sum() + final_table['0y_num'].sum())\n",
    "    forms = final_table[num].sum()\n",
    "    print(\"animacy (inan): \", animcay_perc)\n",
    "    print(\"gender (masc): \", gender_perc)\n",
    "    print(\"n_syll: \", n_syll_mean)\n",
    "    print(\"forms: {0}, forms_perc: {1}\".format(forms, forms_perc))\n",
    "    print(\"soft: \", soft)"
   ]
  },
  {
   "cell_type": "code",
   "execution_count": 105,
   "id": "81610291",
   "metadata": {},
   "outputs": [
    {
     "name": "stdout",
     "output_type": "stream",
     "text": [
      "animacy (inan):  0.9857142857142858\n",
      "gender (masc):  0.8523809523809524\n",
      "n_syll:  1.9\n",
      "forms: 210.0, forms_perc: 0.7636363636363637\n",
      "soft:  0.8904761904761904\n"
     ]
    }
   ],
   "source": [
    "print_summary('0e_num')"
   ]
  },
  {
   "cell_type": "code",
   "execution_count": 106,
   "id": "b41afdca",
   "metadata": {},
   "outputs": [
    {
     "name": "stdout",
     "output_type": "stream",
     "text": [
      "animacy (inan):  1.0\n",
      "gender (masc):  1.0\n",
      "n_syll:  1.0769230769230769\n",
      "forms: 65.0, forms_perc: 0.23636363636363636\n",
      "soft:  1.0\n"
     ]
    }
   ],
   "source": [
    "print_summary('0y_num')"
   ]
  },
  {
   "cell_type": "code",
   "execution_count": 91,
   "id": "457149f8",
   "metadata": {},
   "outputs": [
    {
     "data": {
      "text/plain": [
       "set()"
      ]
     },
     "execution_count": 91,
     "metadata": {},
     "output_type": "execute_result"
    }
   ],
   "source": [
    "a = 'лоб, ров, лёд, рот, горб, пруд, полк, сук, скит, плот, пост, штифт, кол, торг, ад, чад, бред, под, рай, мел, мол, пыл, плен, жар, мир, яр, цвет, рант, быт, вольт, пах, пух, плац, хмель, ток, порт, мозг, долг, луг, круг, зад, сад, след, год, род, баз, глаз, паз, низ, воз, бой, строй, бок, ток, бал, вал, пол, тыл, кон, пар, бор, лес, нос, пот, борт, форт, мост, шкаф, верх, хлев, зоб, гроб, дуб, шаг, снег, лог, стог, мёд, ход, ряд, таз, пай, край, чай, слой, рой, шёлк, корм, дым, чан, суп, жир, пир, хор, смотр, сыр, час, грунт, спирт, мех, цех, газ, клей, гной, сок, стан, мыс, свет, тиф, шлях, мох крюк, перёд, холод, отпуск, терем, ветер, уголок, мысок, забытьё, берег, повод, бережок, бочок, угол, аэропорт, бег, век, вес, вид, ворот, день, дом, дух, корень, лад, лёт, плав, род, скак, счёт, ход, юр'\n",
    "dicts = a.split(sep = ', ')\n",
    "words = final_table[final_table['0y_num'] > 0]['lema']\n",
    "diff = set(words).difference(set(dicts))\n",
    "diff"
   ]
  },
  {
   "cell_type": "code",
   "execution_count": 110,
   "id": "4c580330",
   "metadata": {},
   "outputs": [
    {
     "data": {
      "text/plain": [
       "{'вид', 'дом', 'мозг', 'уголок'}"
      ]
     },
     "execution_count": 110,
     "metadata": {},
     "output_type": "execute_result"
    }
   ],
   "source": [
    "words_e = final_table[final_table['0e_num'] > 0]['lema']\n",
    "diffe = set(words_e).intersection(set(dicts))\n",
    "diffe"
   ]
  },
  {
   "cell_type": "code",
   "execution_count": 117,
   "id": "4886510f",
   "metadata": {},
   "outputs": [
    {
     "data": {
      "text/plain": [
       "16"
      ]
     },
     "execution_count": 117,
     "metadata": {},
     "output_type": "execute_result"
    }
   ],
   "source": [
    "lemas_y = final_table[final_table['0y_num'] > 0]['lema']\n",
    "len(set(lemas_y))"
   ]
  },
  {
   "cell_type": "code",
   "execution_count": 118,
   "id": "6fb19dfd",
   "metadata": {},
   "outputs": [
    {
     "name": "stdout",
     "output_type": "stream",
     "text": [
      "only -e:  84\n",
      "only -y:  14\n",
      "both -y and -e:  2\n"
     ]
    }
   ],
   "source": [
    "both = final_table[final_table['0y_num'] * final_table['0e_num'] > 0]['lema']\n",
    "only_y = (set(lemas_y)).difference(both)\n",
    "lemas_e = final_table[final_table['0e_num'] > 0]['lema']\n",
    "only_e = (set(lemas_e)).difference(both)\n",
    "print('only -e: ', len(only_e))\n",
    "print('only -y: ', len(only_y))\n",
    "print('both -y and -e: ', len(both))"
   ]
  },
  {
   "cell_type": "code",
   "execution_count": 112,
   "id": "31d7511c",
   "metadata": {},
   "outputs": [],
   "source": [
    "map16 = {'counter': final_table['0y_num'] * final_table['animacy'] * final_table['gender'] * (final_table['n_syll'] > 1), 'lema': final_table['lema']}\n",
    "map16 = pd.DataFrame(map16)\n",
    "map16.loc[map16['counter'] == False, 'counter'] = 0\n",
    "map16.loc[map16['counter'] == True, 'counter'] = 1\n",
    "map16[map16['counter'] == 1]\n",
    "map16.to_csv('map16.csv')"
   ]
  },
  {
   "cell_type": "code",
   "execution_count": null,
   "id": "ae085c2d",
   "metadata": {},
   "outputs": [],
   "source": []
  }
 ],
 "metadata": {
  "kernelspec": {
   "display_name": "Python 3",
   "language": "python",
   "name": "python3"
  },
  "language_info": {
   "codemirror_mode": {
    "name": "ipython",
    "version": 3
   },
   "file_extension": ".py",
   "mimetype": "text/x-python",
   "name": "python",
   "nbconvert_exporter": "python",
   "pygments_lexer": "ipython3",
   "version": "3.8.8"
  }
 },
 "nbformat": 4,
 "nbformat_minor": 5
}
