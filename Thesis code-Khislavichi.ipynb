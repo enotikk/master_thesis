{
 "cells": [
  {
   "cell_type": "code",
   "execution_count": 368,
   "id": "43f6b780",
   "metadata": {},
   "outputs": [],
   "source": [
    "import requests\n",
    "import json\n",
    "import codecs\n",
    "import pandas as pd\n",
    "from pandasql import sqldf\n",
    "import csv\n",
    "import numpy as np"
   ]
  },
  {
   "cell_type": "code",
   "execution_count": 322,
   "id": "23c950a4",
   "metadata": {},
   "outputs": [],
   "source": [
    "class Texter:\n",
    "    def __init__(self, text):\n",
    "        self.left = text[:text.find(\"<\")]\n",
    "        self.right = text[text.find(\">\")+1:]\n",
    "        self.match = text[text.find(\"<\")+1:text.find(\">\")]"
   ]
  },
  {
   "cell_type": "code",
   "execution_count": 323,
   "id": "d368790f",
   "metadata": {},
   "outputs": [],
   "source": [
    "def findincorpus(link, query):\n",
    "    queryfull = {\"query\":query,\"corpus\":\"main\",\"meta\":\"\",\"init\":False,\"contextSize\":1}\n",
    "    res = requests.post(link, data = json.dumps(queryfull))\n",
    "    res  = res.text\n",
    "    return res"
   ]
  },
  {
   "cell_type": "code",
   "execution_count": 324,
   "id": "880a2fe1",
   "metadata": {},
   "outputs": [],
   "source": [
    "def parseCols(item):\n",
    "    ans = {}\n",
    "    while(True):\n",
    "        ans[item[1:item.find(\" \")]] = item[item.find(\" \") + 1:item.find(\">\")]\n",
    "        item = item[item.find(\">\") + 1:]\n",
    "        if(len(item) == 0):\n",
    "            return ans"
   ]
  },
  {
   "cell_type": "code",
   "execution_count": 325,
   "id": "18ff210f",
   "metadata": {},
   "outputs": [],
   "source": [
    "def parseRes(lines):\n",
    "    res = []\n",
    "    for line in lines:\n",
    "        num = line[:line.find(\":\")].split()[0]\n",
    "        text = Texter(line[line.find(\">:\") + 4:])\n",
    "        colsAndValues = line[line.find(\"<\"):line.find(\">:\") + 1]\n",
    "        cmap = parseCols(colsAndValues)\n",
    "        cmap['num'] = num\n",
    "        cmap['Left context'] = text.left\n",
    "        cmap['Match'] = text.match\n",
    "        cmap['Right context'] = text.right\n",
    "        cmap['Context'] = text.left + text.match + text.right\n",
    "        res.append(cmap)\n",
    "    return res"
   ]
  },
  {
   "cell_type": "code",
   "execution_count": 326,
   "id": "13e2c920",
   "metadata": {},
   "outputs": [],
   "source": [
    "def readContext(data):\n",
    "    res = []\n",
    "    for item in data:\n",
    "        symbol = item.find('/')\n",
    "        string = ''\n",
    "        while (symbol != -1):\n",
    "            spaceIndex = item[symbol:].find(' ')\n",
    "            if spaceIndex == -1:\n",
    "                break\n",
    "            string += item[:symbol]\n",
    "            item = item[symbol+spaceIndex:]\n",
    "            symbol = item.find('/')\n",
    "        res.append(string)\n",
    "    return res"
   ]
  },
  {
   "cell_type": "code",
   "execution_count": 327,
   "id": "cbc98871",
   "metadata": {},
   "outputs": [],
   "source": [
    "def getAccentDict():\n",
    "    a = []\n",
    "    with open('accent.csv', newline='\\n', encoding = 'utf-8') as f:\n",
    "        reader = csv.reader(f)\n",
    "        for row in reader:\n",
    "            if row[0] not in (\"м\", \"ж\", \"мо\", \"м//мо\", \"мо//м\"):\n",
    "                help_str = \"\"\n",
    "                for s in row:\n",
    "                    help_str += str(s)\n",
    "                a.append(help_str)\n",
    "    d = dict()\n",
    "    for i in a:\n",
    "        if i[0] not in (\"1\", \"2\", \"3\", \"4\", \"5\", \"6\") and len(i)>1:\n",
    "            key = i\n",
    "        else:\n",
    "            value = ''\n",
    "            for s in i:\n",
    "                if s in ('c', 'd', 'e'):\n",
    "                    value +=s\n",
    "            if d.get(key) != None:\n",
    "                d.update({key: d.get(key) + value})\n",
    "            else:\n",
    "                d.update({key: value})\n",
    "            \n",
    "            \n",
    "    return d"
   ]
  },
  {
   "cell_type": "code",
   "execution_count": 328,
   "id": "02ba3fc3",
   "metadata": {},
   "outputs": [],
   "source": [
    "def cleanTable(data):\n",
    "    lemas = []\n",
    "    anim = []\n",
    "    gender = []\n",
    "    finale = []\n",
    "    nsyll = []\n",
    "    prep = []\n",
    "    context = []\n",
    "    i = 0\n",
    "    for cont in data['Left context']:\n",
    "        c = str(cont).split()\n",
    "        p = ''\n",
    "        for w in c[:-5:-1]:\n",
    "            if 'PREP' in w:\n",
    "                p = w[0:w.find(\"/\")].lower()\n",
    "                break\n",
    "        if p in ['на', 'в', 'во', 'о', 'об', 'при']:\n",
    "            prep.append(p)\n",
    "        else:\n",
    "            data = data.drop([i])\n",
    "        i += 1\n",
    "    for word in data['Match']:\n",
    "        word = str(word)\n",
    "        tags = word[word.find(\"/\")+1:].split(',')\n",
    "        lemas.append(word[word.rfind(\"/\")+1:]) #лемма\n",
    "        anim.append(tags[1]) #одушевленность\n",
    "        gender.append(tags[2]) #род\n",
    "        if lemas[-1][-1] not in 'уеыаоэяиюёь':\n",
    "            finale.append(lemas[-1][-1])\n",
    "        elif lemas[-1][-1] in 'уыаоэ':\n",
    "            finale.append(lemas[-1][-2])\n",
    "        elif lemas[-1][-2] in 'уеыаоэяиюёь':\n",
    "            finale.append('й')\n",
    "        else:\n",
    "            finale.append(lemas[-1][-2]+\"'\") # исход основы\n",
    "\n",
    "        n = 0\n",
    "        for letter in word[word.rfind(\"/\")+1:-1]:\n",
    "            if letter in 'уеыаоэяиюё':\n",
    "                n += 1\n",
    "        nsyll.append(n)# количество слогов в основе\n",
    "        words = []\n",
    "    for item in data['Match']:\n",
    "        words.append(item[:item.find('/')])\n",
    "    context = readContext(data['Context'])\n",
    "    return pd.DataFrame({'word': words,\n",
    "                       'lema': lemas,\n",
    "                     'animacy': anim,\n",
    "                       'gender': gender,\n",
    "                       'finale': finale,\n",
    "                       'n_syll': nsyll,\n",
    "                       'preposition': prep,\n",
    "                        'context': context\n",
    "                      })"
   ]
  },
  {
   "cell_type": "code",
   "execution_count": 364,
   "id": "184a9796",
   "metadata": {},
   "outputs": [],
   "source": [
    "def isFinaleSoft(table):\n",
    "    a = np.array(table['finale'].values.tolist())\n",
    "    soft = []\n",
    "    for i in a:\n",
    "        if \"'\" in i:\n",
    "            soft.append(0)\n",
    "        else:\n",
    "            soft.append(1)\n",
    "    table['soft0'] = soft\n",
    "    return table"
   ]
  },
  {
   "cell_type": "code",
   "execution_count": 329,
   "id": "a3281e8d",
   "metadata": {},
   "outputs": [],
   "source": [
    "link = 'http://lingconlab.ru/khislavichi/backend/get_results.php'\n",
    "query_y = \"[(word='.*(у|ю)'%c)& (tag = 'NOUN,(anim|inan),(masc|neut),sing,(loct|loc2|datv).*'%c)]\"\n",
    "query_e = \"[(word='.*е'%c)& (tag = 'NOUN,(anim|inan),(masc|neut),sing,loct.*'%c)]\""
   ]
  },
  {
   "cell_type": "code",
   "execution_count": 330,
   "id": "69e504ce",
   "metadata": {},
   "outputs": [],
   "source": [
    "lines_y = findincorpus(link, query_y)\n",
    "lines_e = findincorpus(link, query_e)"
   ]
  },
  {
   "cell_type": "code",
   "execution_count": 331,
   "id": "afbca4d3",
   "metadata": {},
   "outputs": [],
   "source": [
    "data_y = cleanTable(pd.DataFrame(parseRes(lines_y.splitlines())))\n",
    "data_e = cleanTable(pd.DataFrame(parseRes(lines_e.splitlines())))"
   ]
  },
  {
   "cell_type": "code",
   "execution_count": 332,
   "id": "61154b4d",
   "metadata": {},
   "outputs": [],
   "source": [
    "data_e.to_csv('khislavichi_data_e.csv')\n",
    "data_y.to_csv('khislavichi_data_y.csv')"
   ]
  },
  {
   "cell_type": "code",
   "execution_count": 333,
   "id": "590ee528",
   "metadata": {},
   "outputs": [],
   "source": [
    "data_e = pd.read_csv (\"khislavichi_data_e_clean.csv\", sep = ';')\n",
    "data_y = pd.read_csv (\"khislavichi_data_y_clean.csv\", sep = ';')"
   ]
  },
  {
   "cell_type": "code",
   "execution_count": 334,
   "id": "a9189e23",
   "metadata": {},
   "outputs": [],
   "source": [
    "d = getAccentDict()\n",
    "lemas = data_e['lema'].tolist()\n",
    "accent = []\n",
    "for lema in lemas:\n",
    "    if lema in d.keys():\n",
    "        accent.append(1)\n",
    "    else:\n",
    "        accent.append(0)\n",
    "data_e['accent'] = accent\n",
    "\n",
    "lemas = data_y['lema'].tolist()\n",
    "accent = []\n",
    "for lema in lemas:\n",
    "    if lema in d.keys():\n",
    "        accent.append(1)\n",
    "    else:\n",
    "        accent.append('0')\n",
    "data_y['accent'] = accent"
   ]
  },
  {
   "cell_type": "code",
   "execution_count": 335,
   "id": "2fc93cb1",
   "metadata": {},
   "outputs": [],
   "source": [
    "qwe = data_e.value_counts('lema').to_frame().join(data_y.value_counts('lema').to_frame(), on='lema', how='outer', lsuffix='e_num', rsuffix='y_num')"
   ]
  },
  {
   "cell_type": "code",
   "execution_count": 336,
   "id": "34d3d7d5",
   "metadata": {},
   "outputs": [],
   "source": [
    "qwe['0e_num'] = qwe['0e_num'].fillna(0)\n",
    "qwe['0y_num'] = qwe['0y_num'].fillna(0)"
   ]
  },
  {
   "cell_type": "code",
   "execution_count": 337,
   "id": "4c97ba3e",
   "metadata": {},
   "outputs": [],
   "source": [
    "qwe['perc'] = qwe['0y_num']/(qwe['0e_num']+qwe['0y_num'])"
   ]
  },
  {
   "cell_type": "code",
   "execution_count": 338,
   "id": "b501d71c",
   "metadata": {},
   "outputs": [],
   "source": [
    "feat_e = data_e[['lema', 'animacy', 'gender', 'finale', 'n_syll', 'accent']]\n",
    "feat_y = data_y[['lema', 'animacy', 'gender', 'finale', 'n_syll', 'accent']]"
   ]
  },
  {
   "cell_type": "code",
   "execution_count": 365,
   "id": "a48b8a94",
   "metadata": {},
   "outputs": [
    {
     "name": "stderr",
     "output_type": "stream",
     "text": [
      "C:\\Users\\user\\anaconda3\\lib\\site-packages\\pandas\\core\\indexing.py:1720: SettingWithCopyWarning: \n",
      "A value is trying to be set on a copy of a slice from a DataFrame.\n",
      "Try using .loc[row_indexer,col_indexer] = value instead\n",
      "\n",
      "See the caveats in the documentation: https://pandas.pydata.org/pandas-docs/stable/user_guide/indexing.html#returning-a-view-versus-a-copy\n",
      "  self._setitem_single_column(loc, value, pi)\n",
      "<ipython-input-364-9e05995013da>:9: SettingWithCopyWarning: \n",
      "A value is trying to be set on a copy of a slice from a DataFrame.\n",
      "Try using .loc[row_indexer,col_indexer] = value instead\n",
      "\n",
      "See the caveats in the documentation: https://pandas.pydata.org/pandas-docs/stable/user_guide/indexing.html#returning-a-view-versus-a-copy\n",
      "  table['soft0'] = soft\n"
     ]
    }
   ],
   "source": [
    "feat_e.loc[feat_e['animacy']=='inan', 'animacy'] = 1\n",
    "feat_e.loc[feat_e['animacy']=='anim', 'animacy'] = 0\n",
    "feat_y.loc[feat_y['animacy']=='inan', 'animacy'] = 1\n",
    "feat_y.loc[feat_y['animacy']=='anim', 'animacy'] = 0\n",
    "\n",
    "feat_e.loc[feat_e['gender']=='masc', 'gender'] = 1\n",
    "feat_e.loc[feat_e['gender']=='neut', 'gender'] = 0\n",
    "feat_y.loc[feat_y['gender']=='masc', 'gender'] = 1\n",
    "feat_y.loc[feat_y['gender']=='neut', 'gender'] = 0\n",
    "\n",
    "feat_e = isFinaleSoft(feat_e)\n",
    "feat_y = isFinaleSoft(feat_y)"
   ]
  },
  {
   "cell_type": "code",
   "execution_count": 367,
   "id": "ded77240",
   "metadata": {},
   "outputs": [],
   "source": [
    "feat_y.to_csv('khislavichi_feat_y.csv')\n",
    "feat_e.to_csv('khislavichi_feat_e.csv')"
   ]
  },
  {
   "cell_type": "code",
   "execution_count": 339,
   "id": "375f5f19",
   "metadata": {},
   "outputs": [
    {
     "data": {
      "text/html": [
       "<div>\n",
       "<style scoped>\n",
       "    .dataframe tbody tr th:only-of-type {\n",
       "        vertical-align: middle;\n",
       "    }\n",
       "\n",
       "    .dataframe tbody tr th {\n",
       "        vertical-align: top;\n",
       "    }\n",
       "\n",
       "    .dataframe thead th {\n",
       "        text-align: right;\n",
       "    }\n",
       "</style>\n",
       "<table border=\"1\" class=\"dataframe\">\n",
       "  <thead>\n",
       "    <tr style=\"text-align: right;\">\n",
       "      <th></th>\n",
       "      <th>count(word)</th>\n",
       "    </tr>\n",
       "  </thead>\n",
       "  <tbody>\n",
       "    <tr>\n",
       "      <th>0</th>\n",
       "      <td>78</td>\n",
       "    </tr>\n",
       "  </tbody>\n",
       "</table>\n",
       "</div>"
      ],
      "text/plain": [
       "   count(word)\n",
       "0           78"
      ]
     },
     "execution_count": 339,
     "metadata": {},
     "output_type": "execute_result"
    }
   ],
   "source": [
    "sqldf(\"select count(word) from data_e where data_e.animacy == \\'inan\\' and data_e.gender == \\'masc\\' and data_e.n_syll == 1 and data_e.accent == 1\")"
   ]
  },
  {
   "cell_type": "code",
   "execution_count": 340,
   "id": "9b12d680",
   "metadata": {},
   "outputs": [
    {
     "data": {
      "text/html": [
       "<div>\n",
       "<style scoped>\n",
       "    .dataframe tbody tr th:only-of-type {\n",
       "        vertical-align: middle;\n",
       "    }\n",
       "\n",
       "    .dataframe tbody tr th {\n",
       "        vertical-align: top;\n",
       "    }\n",
       "\n",
       "    .dataframe thead th {\n",
       "        text-align: right;\n",
       "    }\n",
       "</style>\n",
       "<table border=\"1\" class=\"dataframe\">\n",
       "  <thead>\n",
       "    <tr style=\"text-align: right;\">\n",
       "      <th></th>\n",
       "      <th>count(word)</th>\n",
       "    </tr>\n",
       "  </thead>\n",
       "  <tbody>\n",
       "    <tr>\n",
       "      <th>0</th>\n",
       "      <td>132</td>\n",
       "    </tr>\n",
       "  </tbody>\n",
       "</table>\n",
       "</div>"
      ],
      "text/plain": [
       "   count(word)\n",
       "0          132"
      ]
     },
     "execution_count": 340,
     "metadata": {},
     "output_type": "execute_result"
    }
   ],
   "source": [
    "sqldf(\"select count(word) from data_y where data_y.animacy == \\'inan\\' and data_y.gender == \\'masc\\' and data_y.n_syll == 1 and data_y.accent == 1\")"
   ]
  },
  {
   "cell_type": "code",
   "execution_count": 341,
   "id": "96245906",
   "metadata": {},
   "outputs": [
    {
     "data": {
      "text/plain": [
       "0.6285714285714286"
      ]
     },
     "execution_count": 341,
     "metadata": {},
     "output_type": "execute_result"
    }
   ],
   "source": [
    "132/(132+78)"
   ]
  },
  {
   "cell_type": "code",
   "execution_count": 342,
   "id": "0680f840",
   "metadata": {},
   "outputs": [],
   "source": [
    "pd.set_option('display.max_colwidth', None)"
   ]
  },
  {
   "cell_type": "code",
   "execution_count": 343,
   "id": "c45ec585",
   "metadata": {},
   "outputs": [
    {
     "data": {
      "text/plain": [
       "в     146\n",
       "на     41\n",
       "во      4\n",
       "Name: preposition, dtype: int64"
      ]
     },
     "execution_count": 343,
     "metadata": {},
     "output_type": "execute_result"
    }
   ],
   "source": [
    "data_y['preposition'].value_counts()"
   ]
  },
  {
   "cell_type": "code",
   "execution_count": 371,
   "id": "cc0ef750",
   "metadata": {},
   "outputs": [
    {
     "data": {
      "text/plain": [
       "в      453\n",
       "на     178\n",
       "во      25\n",
       "при     12\n",
       "Name: preposition, dtype: int64"
      ]
     },
     "execution_count": 371,
     "metadata": {},
     "output_type": "execute_result"
    }
   ],
   "source": [
    "data_e['preposition'].value_counts()"
   ]
  },
  {
   "cell_type": "code",
   "execution_count": 344,
   "id": "c1006cfd",
   "metadata": {},
   "outputs": [
    {
     "name": "stdout",
     "output_type": "stream",
     "text": [
      "         lema  \\\n",
      "85  канаршино   \n",
      "\n",
      "                                                                    context  \n",
      "85  Там же сейчас , говорили , два дворы тоже осталось , в Канаршину ходили  \n"
     ]
    }
   ],
   "source": [
    "print(data_y[data_y['gender']=='neut'][['lema', 'context']])"
   ]
  },
  {
   "cell_type": "code",
   "execution_count": 345,
   "id": "3b817c80",
   "metadata": {},
   "outputs": [
    {
     "name": "stdout",
     "output_type": "stream",
     "text": [
      "      lema  \\\n",
      "45   кабан   \n",
      "108    бык   \n",
      "\n",
      "                                                                             context  \n",
      "45   Ну , к = чтоб кабан этот ( этый ) , он ( ён ) ж на сало , сало на кабану растёт  \n",
      "108                                      Двенадцать лет . Я на быку бороновала землю  \n"
     ]
    }
   ],
   "source": [
    "print(data_y[data_y['animacy']=='anim'][['lema', 'context']])"
   ]
  },
  {
   "cell_type": "code",
   "execution_count": 346,
   "id": "1a5fb456",
   "metadata": {},
   "outputs": [
    {
     "name": "stdout",
     "output_type": "stream",
     "text": [
      "33\n"
     ]
    }
   ],
   "source": [
    "print(len(data_y[data_y['n_syll']>1]['lema']))"
   ]
  },
  {
   "cell_type": "code",
   "execution_count": 347,
   "id": "53097133",
   "metadata": {},
   "outputs": [],
   "source": [
    "feat = pd.concat([feat_e.drop_duplicates(),feat_y.drop_duplicates()], axis=0)"
   ]
  },
  {
   "cell_type": "code",
   "execution_count": 348,
   "id": "3418cf59",
   "metadata": {},
   "outputs": [],
   "source": [
    "final_table = sqldf(\"select qwe.*, feat.animacy, feat.gender, feat.finale, feat.n_syll from qwe join feat on qwe.lema = feat.lema\")"
   ]
  },
  {
   "cell_type": "code",
   "execution_count": 349,
   "id": "182bda0f",
   "metadata": {},
   "outputs": [],
   "source": [
    "import numpy as np\n",
    "a = np.array(final_table['finale'].values.tolist())\n",
    "soft = []\n",
    "for i in a:\n",
    "    if \"'\" in i:\n",
    "        soft.append(0)\n",
    "    else:\n",
    "        soft.append(1)\n",
    "final_table['soft0'] = soft\n",
    "final_table = final_table.drop_duplicates()"
   ]
  },
  {
   "cell_type": "code",
   "execution_count": 350,
   "id": "7f26b91c",
   "metadata": {},
   "outputs": [
    {
     "data": {
      "text/html": [
       "<div>\n",
       "<style scoped>\n",
       "    .dataframe tbody tr th:only-of-type {\n",
       "        vertical-align: middle;\n",
       "    }\n",
       "\n",
       "    .dataframe tbody tr th {\n",
       "        vertical-align: top;\n",
       "    }\n",
       "\n",
       "    .dataframe thead th {\n",
       "        text-align: right;\n",
       "    }\n",
       "</style>\n",
       "<table border=\"1\" class=\"dataframe\">\n",
       "  <thead>\n",
       "    <tr style=\"text-align: right;\">\n",
       "      <th></th>\n",
       "      <th>lema</th>\n",
       "      <th>0e_num</th>\n",
       "      <th>0y_num</th>\n",
       "      <th>perc</th>\n",
       "      <th>animacy</th>\n",
       "      <th>gender</th>\n",
       "      <th>finale</th>\n",
       "      <th>n_syll</th>\n",
       "      <th>soft0</th>\n",
       "    </tr>\n",
       "  </thead>\n",
       "  <tbody>\n",
       "    <tr>\n",
       "      <th>188</th>\n",
       "      <td>лес</td>\n",
       "      <td>0.0</td>\n",
       "      <td>29.0</td>\n",
       "      <td>1.0</td>\n",
       "      <td>inan</td>\n",
       "      <td>masc</td>\n",
       "      <td>с</td>\n",
       "      <td>1</td>\n",
       "      <td>1</td>\n",
       "    </tr>\n",
       "  </tbody>\n",
       "</table>\n",
       "</div>"
      ],
      "text/plain": [
       "    lema  0e_num  0y_num  perc animacy gender finale  n_syll  soft0\n",
       "188  лес     0.0    29.0   1.0    inan   masc      с       1      1"
      ]
     },
     "execution_count": 350,
     "metadata": {},
     "output_type": "execute_result"
    }
   ],
   "source": [
    "final_table[final_table['lema'] == 'лес']"
   ]
  },
  {
   "cell_type": "code",
   "execution_count": 351,
   "id": "8b16ae51",
   "metadata": {},
   "outputs": [],
   "source": [
    "final_table.loc[final_table['animacy']=='inan', 'animacy'] = 1"
   ]
  },
  {
   "cell_type": "code",
   "execution_count": 352,
   "id": "1fb8d4cf",
   "metadata": {},
   "outputs": [],
   "source": [
    "final_table.loc[final_table['animacy']=='anim', 'animacy'] = 0"
   ]
  },
  {
   "cell_type": "code",
   "execution_count": 353,
   "id": "bb070609",
   "metadata": {},
   "outputs": [],
   "source": [
    "final_table.loc[final_table['gender']=='masc', 'gender'] = 1\n",
    "final_table.loc[final_table['gender']=='neut', 'gender'] = 0"
   ]
  },
  {
   "cell_type": "code",
   "execution_count": 354,
   "id": "21ee81e2",
   "metadata": {},
   "outputs": [
    {
     "data": {
      "text/html": [
       "<div>\n",
       "<style scoped>\n",
       "    .dataframe tbody tr th:only-of-type {\n",
       "        vertical-align: middle;\n",
       "    }\n",
       "\n",
       "    .dataframe tbody tr th {\n",
       "        vertical-align: top;\n",
       "    }\n",
       "\n",
       "    .dataframe thead th {\n",
       "        text-align: right;\n",
       "    }\n",
       "</style>\n",
       "<table border=\"1\" class=\"dataframe\">\n",
       "  <thead>\n",
       "    <tr style=\"text-align: right;\">\n",
       "      <th></th>\n",
       "      <th>lema</th>\n",
       "      <th>0e_num</th>\n",
       "      <th>0y_num</th>\n",
       "      <th>perc</th>\n",
       "      <th>animacy</th>\n",
       "      <th>gender</th>\n",
       "      <th>finale</th>\n",
       "      <th>n_syll</th>\n",
       "      <th>soft0</th>\n",
       "    </tr>\n",
       "  </thead>\n",
       "  <tbody>\n",
       "    <tr>\n",
       "      <th>73</th>\n",
       "      <td>рот</td>\n",
       "      <td>2.0</td>\n",
       "      <td>1.0</td>\n",
       "      <td>0.333333</td>\n",
       "      <td>1</td>\n",
       "      <td>1</td>\n",
       "      <td>т</td>\n",
       "      <td>1</td>\n",
       "      <td>1</td>\n",
       "    </tr>\n",
       "  </tbody>\n",
       "</table>\n",
       "</div>"
      ],
      "text/plain": [
       "   lema  0e_num  0y_num      perc animacy gender finale  n_syll  soft0\n",
       "73  рот     2.0     1.0  0.333333       1      1      т       1      1"
      ]
     },
     "execution_count": 354,
     "metadata": {},
     "output_type": "execute_result"
    }
   ],
   "source": [
    "final_table[final_table['lema']=='рот']"
   ]
  },
  {
   "cell_type": "code",
   "execution_count": 355,
   "id": "9bcc444a",
   "metadata": {},
   "outputs": [],
   "source": [
    "final_table.to_csv('khislavichi_final_table.csv')"
   ]
  },
  {
   "cell_type": "markdown",
   "id": "8e1770c8",
   "metadata": {},
   "source": [
    "http://lingconlab.ru/malinino/?#!/\n",
    "http://lingconlab.ru/vaduga/?#!/\n",
    "http://lingconlab.ru/opochka/?#!/\n",
    "http://lingconlab.ru/lukhteza/?#!/\n",
    "http://lingconlab.ru/nekhochi/?#!/\n",
    "ustja [(word = \".+(у|ю)\") & (tag = \"N.(m|n)s(d|l).\")]"
   ]
  },
  {
   "cell_type": "code",
   "execution_count": 356,
   "id": "60ab8fee",
   "metadata": {},
   "outputs": [],
   "source": [
    "def print_summary(num):\n",
    "    sum_data = {'counter' : final_table[num],'animacy' : final_table[num] * final_table['animacy'], 'soft' : final_table['soft0'] * final_table[num], 'gender' : final_table[num] * final_table['gender'], 'n_syll' : final_table[num] * final_table['n_syll']}\n",
    "    sum = pd.DataFrame(sum_data)\n",
    "    sum = sum[sum_data['counter'] > 0]\n",
    "    animcay_perc = sum['animacy'].sum() / sum['counter'].sum()\n",
    "    gender_perc = sum['gender'].sum() / sum['counter'].sum()\n",
    "    n_syll_mean = sum['n_syll'].sum() / sum['counter'].sum()\n",
    "    soft = sum['soft'].sum() / sum['counter'].sum()\n",
    "    forms_perc = final_table[num].sum() / (final_table['0e_num'].sum() + final_table['0y_num'].sum())\n",
    "    forms = final_table[num].sum()\n",
    "    print(\"animacy (inan): \", animcay_perc)\n",
    "    print(\"gender (masc): \", gender_perc)\n",
    "    print(\"n_syll: \", n_syll_mean)\n",
    "    print(\"forms: {0}, forms_perc: {1}\".format(forms, forms_perc))\n",
    "    print(\"soft: \", soft)"
   ]
  },
  {
   "cell_type": "code",
   "execution_count": 357,
   "id": "2a402b4f",
   "metadata": {},
   "outputs": [
    {
     "name": "stdout",
     "output_type": "stream",
     "text": [
      "animacy (inan):  0.9671150971599403\n",
      "gender (masc):  0.796711509715994\n",
      "n_syll:  1.7608370702541105\n",
      "forms: 669.0, forms_perc: 0.7770034843205574\n",
      "soft:  0.8565022421524664\n"
     ]
    }
   ],
   "source": [
    "print_summary('0e_num')"
   ]
  },
  {
   "cell_type": "code",
   "execution_count": 358,
   "id": "d1a5e3c9",
   "metadata": {},
   "outputs": [
    {
     "name": "stdout",
     "output_type": "stream",
     "text": [
      "animacy (inan):  0.984375\n",
      "gender (masc):  0.9947916666666666\n",
      "n_syll:  1.2395833333333333\n",
      "forms: 192.0, forms_perc: 0.2229965156794425\n",
      "soft:  0.9947916666666666\n"
     ]
    }
   ],
   "source": [
    "print_summary('0y_num')"
   ]
  },
  {
   "cell_type": "code",
   "execution_count": 359,
   "id": "dbc85497",
   "metadata": {},
   "outputs": [
    {
     "data": {
      "text/plain": [
       "{'банк',\n",
       " 'большак',\n",
       " 'бугор',\n",
       " 'бык',\n",
       " 'бычок',\n",
       " 'взгорок',\n",
       " 'горлач',\n",
       " 'гребень',\n",
       " 'двор',\n",
       " 'кабан',\n",
       " 'канаршино',\n",
       " 'куст',\n",
       " 'кут',\n",
       " 'малинник',\n",
       " 'мешок',\n",
       " 'особняк',\n",
       " 'плуг',\n",
       " 'полик',\n",
       " 'полушубок',\n",
       " 'посёлок',\n",
       " 'потолок',\n",
       " 'свинарник',\n",
       " 'собняк',\n",
       " 'станок',\n",
       " 'столб',\n",
       " 'сундук',\n",
       " 'танк',\n",
       " 'язык'}"
      ]
     },
     "execution_count": 359,
     "metadata": {},
     "output_type": "execute_result"
    }
   ],
   "source": [
    "a = 'лоб, ров, лёд, рот, горб, пруд, полк, сук, скит, плот, пост, штифт, кол, торг, ад, чад, бред, под, рай, мел, мол, пыл, плен, жар, мир, яр, цвет, рант, быт, вольт, пах, пух, плац, хмель, ток, порт, мозг, долг, луг, круг, зад, сад, след, год, род, баз, глаз, паз, низ, воз, бой, строй, бок, ток, бал, вал, пол, тыл, кон, пар, бор, лес, нос, пот, борт, форт, мост, шкаф, верх, хлев, зоб, гроб, дуб, шаг, снег, лог, стог, мёд, ход, ряд, таз, пай, край, чай, слой, рой, шёлк, корм, дым, чан, суп, жир, пир, хор, смотр, сыр, час, грунт, спирт, мех, цех, газ, клей, гной, сок, стан, мыс, свет, тиф, шлях, мох крюк, перёд, холод, отпуск, терем, ветер, уголок, мысок, забытьё, берег, повод, бережок, бочок, угол, аэропорт, бег, век, вес, вид, ворот, день, дом, дух, корень, лад, лёт, плав, род, скак, счёт, ход, юр'\n",
    "dicts = a.split(sep = ', ')\n",
    "words = final_table[final_table['0y_num'] > 0]['lema']\n",
    "diff = set(words).difference(set(dicts))\n",
    "diff"
   ]
  },
  {
   "cell_type": "code",
   "execution_count": 360,
   "id": "5238daba",
   "metadata": {},
   "outputs": [
    {
     "data": {
      "text/plain": [
       "{'вид',\n",
       " 'день',\n",
       " 'дом',\n",
       " 'дух',\n",
       " 'круг',\n",
       " 'лоб',\n",
       " 'повод',\n",
       " 'рот',\n",
       " 'суп',\n",
       " 'угол',\n",
       " 'уголок'}"
      ]
     },
     "execution_count": 360,
     "metadata": {},
     "output_type": "execute_result"
    }
   ],
   "source": [
    "words_e = final_table[final_table['0e_num'] > 0]['lema']\n",
    "diffe = set(words_e).intersection(set(dicts))\n",
    "diffe"
   ]
  },
  {
   "cell_type": "code",
   "execution_count": 361,
   "id": "1a82b416",
   "metadata": {},
   "outputs": [
    {
     "data": {
      "text/plain": [
       "28"
      ]
     },
     "execution_count": 361,
     "metadata": {},
     "output_type": "execute_result"
    }
   ],
   "source": [
    "len(diff)"
   ]
  },
  {
   "cell_type": "code",
   "execution_count": 369,
   "id": "8d97f296",
   "metadata": {},
   "outputs": [
    {
     "data": {
      "text/plain": [
       "50"
      ]
     },
     "execution_count": 369,
     "metadata": {},
     "output_type": "execute_result"
    }
   ],
   "source": [
    "lemas_y = final_table[final_table['0y_num'] > 0]['lema']\n",
    "len(set(lemas_y))"
   ]
  },
  {
   "cell_type": "code",
   "execution_count": 370,
   "id": "88b832c6",
   "metadata": {},
   "outputs": [
    {
     "name": "stdout",
     "output_type": "stream",
     "text": [
      "only -e:  159\n",
      "only -y:  36\n",
      "both -y and -e:  15\n"
     ]
    }
   ],
   "source": [
    "both = final_table[final_table['0y_num'] * final_table['0e_num'] > 0]['lema']\n",
    "only_y = (set(lemas_y)).difference(both)\n",
    "lemas_e = final_table[final_table['0e_num'] > 0]['lema']\n",
    "only_e = (set(lemas_e)).difference(both)\n",
    "print('only -e: ', len(only_e))\n",
    "print('only -y: ', len(only_y))\n",
    "print('both -y and -e: ', len(both))"
   ]
  },
  {
   "cell_type": "code",
   "execution_count": 363,
   "id": "44e2d945",
   "metadata": {},
   "outputs": [],
   "source": [
    "map16 = {'counter': final_table['0y_num'] * final_table['animacy'] * final_table['gender'] * (final_table['n_syll'] > 1), 'lema': final_table['lema']}\n",
    "map16 = pd.DataFrame(map16)\n",
    "map16.loc[map16['counter'] == False, 'counter'] = 0\n",
    "map16.loc[map16['counter'] == True, 'counter'] = 1\n",
    "map16[map16['counter'] == 1]\n",
    "map16.to_csv('map16.csv')"
   ]
  },
  {
   "cell_type": "code",
   "execution_count": null,
   "id": "fea94bfc",
   "metadata": {},
   "outputs": [],
   "source": []
  }
 ],
 "metadata": {
  "kernelspec": {
   "display_name": "Python 3",
   "language": "python",
   "name": "python3"
  },
  "language_info": {
   "codemirror_mode": {
    "name": "ipython",
    "version": 3
   },
   "file_extension": ".py",
   "mimetype": "text/x-python",
   "name": "python",
   "nbconvert_exporter": "python",
   "pygments_lexer": "ipython3",
   "version": "3.8.8"
  }
 },
 "nbformat": 4,
 "nbformat_minor": 5
}
